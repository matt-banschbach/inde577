{
 "cells": [
  {
   "cell_type": "code",
   "id": "initial_id",
   "metadata": {
    "collapsed": true,
    "ExecuteTime": {
     "end_time": "2024-12-04T01:24:16.610892Z",
     "start_time": "2024-12-04T01:24:15.188696Z"
    }
   },
   "source": [
    "import pandas as pd\n",
    "import numpy as np\n",
    "from matplotlib import pyplot as plt"
   ],
   "outputs": [],
   "execution_count": 1
  },
  {
   "metadata": {
    "ExecuteTime": {
     "end_time": "2024-12-04T01:24:21.374473Z",
     "start_time": "2024-12-04T01:24:16.947655Z"
    }
   },
   "cell_type": "code",
   "source": "acled = pd.read_csv(\"Asia-Pacific_2018-2024_Nov22.csv\")",
   "id": "ca6c4620308124c8",
   "outputs": [],
   "execution_count": 2
  },
  {
   "metadata": {
    "ExecuteTime": {
     "end_time": "2024-12-04T01:24:22.622720Z",
     "start_time": "2024-12-04T01:24:22.611155Z"
    }
   },
   "cell_type": "code",
   "source": "print(acled.head())",
   "id": "ef84b0b3aad3fb83",
   "outputs": [
    {
     "name": "stdout",
     "output_type": "stream",
     "text": [
      "  event_id_cnty  event_date  year  time_precision   disorder_type event_type  \\\n",
      "0       AUS3402  2024-11-22  2024               1  Demonstrations   Protests   \n",
      "1       AUS3386  2024-11-22  2024               1  Demonstrations   Protests   \n",
      "2       AUS3401  2024-11-22  2024               1  Demonstrations   Protests   \n",
      "3      BGD29440  2024-11-22  2024               1  Demonstrations   Protests   \n",
      "4      BGD29442  2024-11-22  2024               1  Demonstrations   Protests   \n",
      "\n",
      "              sub_event_type                   actor1  \\\n",
      "0           Peaceful protest   Protesters (Australia)   \n",
      "1           Peaceful protest   Protesters (Australia)   \n",
      "2           Peaceful protest   Protesters (Australia)   \n",
      "3  Protest with intervention  Protesters (Bangladesh)   \n",
      "4           Peaceful protest  Protesters (Bangladesh)   \n",
      "\n",
      "              assoc_actor_1      inter1  ...             location latitude  \\\n",
      "0                       NaN  Protesters  ...   Coast of Newcastle -32.9361   \n",
      "1         Women (Australia)  Protesters  ...  Melbourne - Central -37.8175   \n",
      "2                       NaN  Protesters  ...            Newcastle -32.9257   \n",
      "3  Labor Group (Bangladesh)  Protesters  ...    Dhaka - Kadamtali  23.6894   \n",
      "4     Students (Bangladesh)  Protesters  ...           Chittagong  22.3571   \n",
      "\n",
      "  longitude geo_precision                                    source  \\\n",
      "0  151.8439             2                                Green Left   \n",
      "1  144.9674             1  Australian Broadcasting Corporation News   \n",
      "2  151.7581             1                                Green Left   \n",
      "3   90.4488             1                 United News of Bangladesh   \n",
      "4   91.7823             1                               Prothom Alo   \n",
      "\n",
      "   source_scale                                              notes fatalities  \\\n",
      "0      National  On 22 November 2024, hundreds of people protes...          0   \n",
      "1      National  On 22 November 2024, thousands of people march...          0   \n",
      "2      National  On 22 November 2024, people marched to Horsesh...          0   \n",
      "3      National  On 22 November 2024, hundreds of battery-run r...          0   \n",
      "4      National  On 22 November 2024, students staged a protest...          0   \n",
      "\n",
      "                   tags   timestamp  \n",
      "0   crowd size=hundreds  1732644597  \n",
      "1  crowd size=thousands  1732654481  \n",
      "2  crowd size=no report  1732654481  \n",
      "3   crowd size=hundreds  1732654482  \n",
      "4  crowd size=no report  1732654482  \n",
      "\n",
      "[5 rows x 31 columns]\n"
     ]
    }
   ],
   "execution_count": 3
  },
  {
   "metadata": {
    "ExecuteTime": {
     "end_time": "2024-12-04T01:26:07.717012Z",
     "start_time": "2024-12-04T01:26:07.645815Z"
    }
   },
   "cell_type": "code",
   "source": "myanmar = acled[acled.country == \"Myanmar\"]",
   "id": "cc7b214a0922fa11",
   "outputs": [],
   "execution_count": 4
  },
  {
   "metadata": {
    "ExecuteTime": {
     "end_time": "2024-12-04T01:26:16.507091Z",
     "start_time": "2024-12-04T01:26:16.502820Z"
    }
   },
   "cell_type": "code",
   "source": "print(len(myanmar))",
   "id": "a473ede763e8c15",
   "outputs": [
    {
     "name": "stdout",
     "output_type": "stream",
     "text": [
      "82842\n"
     ]
    }
   ],
   "execution_count": 5
  },
  {
   "metadata": {
    "ExecuteTime": {
     "end_time": "2024-12-04T01:26:40.453846Z",
     "start_time": "2024-12-04T01:26:40.364417Z"
    }
   },
   "cell_type": "code",
   "source": "len(acled[acled.country == \"Myanmar\"])",
   "id": "d196369886ba6a2a",
   "outputs": [
    {
     "data": {
      "text/plain": [
       "82842"
      ]
     },
     "execution_count": 6,
     "metadata": {},
     "output_type": "execute_result"
    }
   ],
   "execution_count": 6
  },
  {
   "metadata": {
    "ExecuteTime": {
     "end_time": "2024-12-04T01:27:05.100545Z",
     "start_time": "2024-12-04T01:27:05.088124Z"
    }
   },
   "cell_type": "code",
   "source": "",
   "id": "3eaa6016f87f6b3f",
   "outputs": [
    {
     "ename": "AttributeError",
     "evalue": "'DataFrame' object has no attribute 'columms'",
     "output_type": "error",
     "traceback": [
      "\u001B[1;31m---------------------------------------------------------------------------\u001B[0m",
      "\u001B[1;31mAttributeError\u001B[0m                            Traceback (most recent call last)",
      "\u001B[1;32m~\\AppData\\Local\\Temp\\ipykernel_14288\\4143623746.py\u001B[0m in \u001B[0;36m?\u001B[1;34m()\u001B[0m\n\u001B[1;32m----> 1\u001B[1;33m \u001B[0mmyanmar\u001B[0m\u001B[1;33m.\u001B[0m\u001B[0mcolumms\u001B[0m\u001B[1;33m\u001B[0m\u001B[1;33m\u001B[0m\u001B[0m\n\u001B[0m",
      "\u001B[1;32m~\\anaconda3\\Lib\\site-packages\\pandas\\core\\generic.py\u001B[0m in \u001B[0;36m?\u001B[1;34m(self, name)\u001B[0m\n\u001B[0;32m   6295\u001B[0m             \u001B[1;32mand\u001B[0m \u001B[0mname\u001B[0m \u001B[1;32mnot\u001B[0m \u001B[1;32min\u001B[0m \u001B[0mself\u001B[0m\u001B[1;33m.\u001B[0m\u001B[0m_accessors\u001B[0m\u001B[1;33m\u001B[0m\u001B[1;33m\u001B[0m\u001B[0m\n\u001B[0;32m   6296\u001B[0m             \u001B[1;32mand\u001B[0m \u001B[0mself\u001B[0m\u001B[1;33m.\u001B[0m\u001B[0m_info_axis\u001B[0m\u001B[1;33m.\u001B[0m\u001B[0m_can_hold_identifiers_and_holds_name\u001B[0m\u001B[1;33m(\u001B[0m\u001B[0mname\u001B[0m\u001B[1;33m)\u001B[0m\u001B[1;33m\u001B[0m\u001B[1;33m\u001B[0m\u001B[0m\n\u001B[0;32m   6297\u001B[0m         \u001B[1;33m)\u001B[0m\u001B[1;33m:\u001B[0m\u001B[1;33m\u001B[0m\u001B[1;33m\u001B[0m\u001B[0m\n\u001B[0;32m   6298\u001B[0m             \u001B[1;32mreturn\u001B[0m \u001B[0mself\u001B[0m\u001B[1;33m[\u001B[0m\u001B[0mname\u001B[0m\u001B[1;33m]\u001B[0m\u001B[1;33m\u001B[0m\u001B[1;33m\u001B[0m\u001B[0m\n\u001B[1;32m-> 6299\u001B[1;33m         \u001B[1;32mreturn\u001B[0m \u001B[0mobject\u001B[0m\u001B[1;33m.\u001B[0m\u001B[0m__getattribute__\u001B[0m\u001B[1;33m(\u001B[0m\u001B[0mself\u001B[0m\u001B[1;33m,\u001B[0m \u001B[0mname\u001B[0m\u001B[1;33m)\u001B[0m\u001B[1;33m\u001B[0m\u001B[1;33m\u001B[0m\u001B[0m\n\u001B[0m",
      "\u001B[1;31mAttributeError\u001B[0m: 'DataFrame' object has no attribute 'columms'"
     ]
    }
   ],
   "execution_count": 8
  }
 ],
 "metadata": {
  "kernelspec": {
   "display_name": "Python 3",
   "language": "python",
   "name": "python3"
  },
  "language_info": {
   "codemirror_mode": {
    "name": "ipython",
    "version": 2
   },
   "file_extension": ".py",
   "mimetype": "text/x-python",
   "name": "python",
   "nbconvert_exporter": "python",
   "pygments_lexer": "ipython2",
   "version": "2.7.6"
  }
 },
 "nbformat": 4,
 "nbformat_minor": 5
}
