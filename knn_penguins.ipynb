{
 "cells": [
  {
   "cell_type": "code",
   "id": "initial_id",
   "metadata": {
    "collapsed": true,
    "ExecuteTime": {
     "end_time": "2024-10-14T19:00:20.660582Z",
     "start_time": "2024-10-14T19:00:20.652347Z"
    }
   },
   "source": [
    "import numpy as np\n",
    "import matplotlib.pyplot as plt\n",
    "import pandas as pd\n",
    "import seaborn as sns\n",
    "from sklearn.model_selection import train_test_split\n",
    "import operator"
   ],
   "outputs": [],
   "execution_count": 23
  },
  {
   "metadata": {
    "ExecuteTime": {
     "end_time": "2024-10-14T18:41:16.745507Z",
     "start_time": "2024-10-14T18:41:16.730066Z"
    }
   },
   "cell_type": "code",
   "source": "penguins = sns.load_dataset('penguins').dropna()",
   "id": "b0f54ef9b843502f",
   "outputs": [],
   "execution_count": 4
  },
  {
   "metadata": {
    "ExecuteTime": {
     "end_time": "2024-10-14T18:49:09.549281Z",
     "start_time": "2024-10-14T18:49:09.540916Z"
    }
   },
   "cell_type": "code",
   "source": "colors = dict(zip(penguins['species'].unique(), [\"red\", \"magenta\", \"lightseagreen\"]))",
   "id": "278eae62d8a9319c",
   "outputs": [],
   "execution_count": 14
  },
  {
   "metadata": {},
   "cell_type": "code",
   "source": [
    "fig, ax = plt.subplots(figsize=(9, 6))\n",
    "for s, c in colors.items():\n",
    "    plot_i = penguins[penguins.species == s]\n",
    "    ax.scatter(plot_i.bill_length_mm, plot_i.bill_depth_mm, color=c, label=s)\n",
    "ax.set_xlabel('Bill Length (mm)')\n",
    "ax.set_ylabel('Bill Depth (mm)')\n",
    "ax.legend()\n",
    "plt.show()"
   ],
   "id": "d2f1afc9d2b88f80",
   "outputs": [],
   "execution_count": null
  },
  {
   "metadata": {
    "ExecuteTime": {
     "end_time": "2024-10-14T18:52:34.598873Z",
     "start_time": "2024-10-14T18:52:34.588592Z"
    }
   },
   "cell_type": "code",
   "source": [
    "X = penguins[['bill_length_mm', 'bill_depth_mm']].to_numpy()\n",
    "y = penguins['species'].to_numpy()"
   ],
   "id": "4e9a435f3af1c3a6",
   "outputs": [],
   "execution_count": 19
  },
  {
   "metadata": {
    "ExecuteTime": {
     "end_time": "2024-10-14T18:53:42.592574Z",
     "start_time": "2024-10-14T18:53:42.583852Z"
    }
   },
   "cell_type": "code",
   "source": "X_train, X_test, y_train, y_test = train_test_split(X, y, test_size=0.33, random_state=1)",
   "id": "ef8e79cacb704a76",
   "outputs": [],
   "execution_count": 22
  },
  {
   "metadata": {
    "ExecuteTime": {
     "end_time": "2024-10-14T19:03:50.518015Z",
     "start_time": "2024-10-14T19:03:50.509681Z"
    }
   },
   "cell_type": "code",
   "source": [
    "def d(a, b):\n",
    "    \"\"\"\n",
    "    The Euclidian distance between two vectors.\n",
    "    :param a: Vector 1\n",
    "    :param b: Vector 2\n",
    "    :return: Euclidean Distance\n",
    "    \"\"\"\n",
    "    return np.sqrt((a-b) @ (a-b))"
   ],
   "id": "3516bae1e06e2ac8",
   "outputs": [],
   "execution_count": 24
  },
  {
   "metadata": {
    "ExecuteTime": {
     "end_time": "2024-10-14T19:05:00.421561Z",
     "start_time": "2024-10-14T19:05:00.411294Z"
    }
   },
   "cell_type": "code",
   "source": "",
   "id": "8c87ff9903be9c74",
   "outputs": [
    {
     "data": {
      "text/plain": [
       "4.4598206241955545"
      ]
     },
     "execution_count": 31,
     "metadata": {},
     "output_type": "execute_result"
    }
   ],
   "execution_count": 31
  },
  {
   "metadata": {
    "ExecuteTime": {
     "end_time": "2024-10-14T19:03:51.795701Z",
     "start_time": "2024-10-14T19:03:51.788063Z"
    }
   },
   "cell_type": "code",
   "source": [
    "def k_nearest(target, X, y, K):\n",
    "    distances = [(d(x, target), x, y) for x, y in zip(X, y)]\n",
    "    distances = sorted(distances, key=operator.itemgetter(0))  # Sort the list by the distances\n",
    "    \n",
    "    return distances[:K]\n"
   ],
   "id": "52a2fba7e90bf37a",
   "outputs": [],
   "execution_count": 25
  },
  {
   "metadata": {},
   "cell_type": "code",
   "source": [
    "def KNN(target, X, y, K):\n",
    "    neighbors = k_nearest(target, X, y, K)\n",
    "    labels = [n[2] for n in neighbors]\n",
    "    \n",
    "    return max(labels, key=labels.count)"
   ],
   "id": "731d5a2d2fa0e3c5",
   "outputs": [],
   "execution_count": null
  },
  {
   "metadata": {
    "ExecuteTime": {
     "end_time": "2024-10-14T19:06:14.438033Z",
     "start_time": "2024-10-14T19:06:14.425470Z"
    }
   },
   "cell_type": "code",
   "source": "KNN(X_train[1], X_train, y_train, 4)",
   "id": "169ef9486aa569e6",
   "outputs": [
    {
     "data": {
      "text/plain": [
       "'Adelie'"
      ]
     },
     "execution_count": 32,
     "metadata": {},
     "output_type": "execute_result"
    }
   ],
   "execution_count": 32
  },
  {
   "metadata": {
    "ExecuteTime": {
     "end_time": "2024-10-14T19:08:33.656605Z",
     "start_time": "2024-10-14T19:08:33.648674Z"
    }
   },
   "cell_type": "code",
   "source": [
    "def classification_error(test_X, test_y, train_X, train_y, K):\n",
    "    error = 0\n",
    "    for x_i, y_i in zip(test_X, test_y):\n",
    "        error += y_i != KNN(x_i, train_X, train_y, K)\n",
    "    return error / len(test_X)"
   ],
   "id": "a91239851d0f628a",
   "outputs": [],
   "execution_count": 36
  },
  {
   "metadata": {
    "ExecuteTime": {
     "end_time": "2024-10-14T19:08:34.835166Z",
     "start_time": "2024-10-14T19:08:34.624217Z"
    }
   },
   "cell_type": "code",
   "source": "classification_error(X_train, y_train, X_test, y_test, 4)",
   "id": "f47959e350d904d6",
   "outputs": [
    {
     "data": {
      "text/plain": [
       "0.053811659192825115"
      ]
     },
     "execution_count": 37,
     "metadata": {},
     "output_type": "execute_result"
    }
   ],
   "execution_count": 37
  },
  {
   "metadata": {
    "ExecuteTime": {
     "end_time": "2024-10-14T19:09:35.931794Z",
     "start_time": "2024-10-14T19:09:33.325502Z"
    }
   },
   "cell_type": "code",
   "source": [
    "possible_k = [k for k in range(3, 26, 2)]\n",
    "errors = [classification_error(X_test, y_test, X_train, y_train, k) for k in possible_k]"
   ],
   "id": "bc502dfd648d1ce",
   "outputs": [],
   "execution_count": 39
  },
  {
   "metadata": {
    "ExecuteTime": {
     "end_time": "2024-10-14T19:09:38.244253Z",
     "start_time": "2024-10-14T19:09:37.750453Z"
    }
   },
   "cell_type": "code",
   "source": [
    "plt.figure(figsize = (9, 6))\n",
    "plt.plot(possible_k, errors, color = 'red', marker = \"o\")\n",
    "plt.xlabel('k', fontsize = 14)\n",
    "plt.ylabel('Classification Error', fontsize = 14)\n",
    "plt.xticks(possible_k)\n",
    "plt.show()"
   ],
   "id": "7dea984fcc7a3a7b",
   "outputs": [
    {
     "data": {
      "text/plain": [
       "<Figure size 900x600 with 1 Axes>"
      ],
      "image/png": "[encoded data removed]"
     },
     "metadata": {},
     "output_type": "display_data"
    }
   ],
   "execution_count": 40
  }
 ],
 "metadata": {
  "kernelspec": {
   "display_name": "Python 3",
   "language": "python",
   "name": "python3"
  },
  "language_info": {
   "codemirror_mode": {
    "name": "ipython",
    "version": 2
   },
   "file_extension": ".py",
   "mimetype": "text/x-python",
   "name": "python",
   "nbconvert_exporter": "python",
   "pygments_lexer": "ipython2",
   "version": "2.7.6"
  }
 },
 "nbformat": 4,
 "nbformat_minor": 5
}
