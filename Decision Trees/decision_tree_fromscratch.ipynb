{
 "cells": [
  {
   "cell_type": "code",
   "id": "initial_id",
   "metadata": {
    "collapsed": true,
    "ExecuteTime": {
     "end_time": "2024-11-05T16:54:00.397023Z",
     "start_time": "2024-11-05T16:54:00.389307Z"
    }
   },
   "source": [
    "# https://medium.com/@enozeren/building-a-decision-tree-from-scratch-324b9a5ed836\n",
    "\n",
    "# Decision Tree from scratch branch"
   ],
   "outputs": [],
   "execution_count": 1
  },
  {
   "metadata": {
    "ExecuteTime": {
     "end_time": "2024-11-05T17:06:07.684886Z",
     "start_time": "2024-11-05T17:06:07.677652Z"
    }
   },
   "cell_type": "code",
   "source": [
    "import numpy as np\n",
    "import pandas as pd\n",
    "import matplotlib.pyplot as plt\n",
    "from collections import Counter"
   ],
   "id": "2ce0dee64cc409fd",
   "outputs": [],
   "execution_count": 4
  },
  {
   "metadata": {
    "ExecuteTime": {
     "end_time": "2024-11-05T17:03:37.879555Z",
     "start_time": "2024-11-05T17:03:37.868117Z"
    }
   },
   "cell_type": "code",
   "source": [
    "class TreeNode():\n",
    "    \n",
    "    def __init__(self, data, feature_idx, feature_val, prediction_probs, information_gain):\n",
    "        self.data = data\n",
    "        self.feature_idx = feature_idx\n",
    "        self.feature_val = feature_val\n",
    "        self.prediction_probs = prediction_probs\n",
    "        self.information_gain = information_gain\n",
    "        self.feature_importance = self.data.shape[0] * self.information_gain\n",
    "        self.left = None\n",
    "        self.right = None\n",
    "    \n",
    "    def node_def(self) -> str:\n",
    "\n",
    "        if (self.left or self.right):\n",
    "            return f\"NODE | Information Gain = {self.information_gain} | Split IF X[{self.feature_idx}] < {self.feature_val} THEN left O/W right\"\n",
    "        else:\n",
    "            unique_values, value_counts = np.unique(self.data[:,-1], return_counts=True)\n",
    "            output = \", \".join([f\"{value}->{count}\" for value, count in zip(unique_values, value_counts)])            \n",
    "            return f\"LEAF | Label Counts = {output} | Pred Probs = {self.prediction_probs}\""
   ],
   "id": "26ddfbb05b487b17",
   "outputs": [],
   "execution_count": 3
  },
  {
   "metadata": {},
   "cell_type": "code",
   "outputs": [],
   "execution_count": null,
   "source": [
    "class DecisionTree():\n",
    "    def __init__(self, max_depth=4, min_samples_leaf=1, \n",
    "                 min_information_gain=0.0, numb_of_features_splitting=None,\n",
    "                 amount_of_say=None) -> None:\n",
    "        \"\"\"\n",
    "        Setting the class with hyperparameters\n",
    "        max_depth: (int) -> max depth of the tree\n",
    "        min_samples_leaf: (int) -> min # of samples required to be in a leaf to make the splitting possible\n",
    "        min_information_gain: (float) -> min information gain required to make the splitting possible\n",
    "        num_of_features_splitting: (str) ->  when splitting if sqrt then sqrt(# of features) features considered, \n",
    "                                                            if log then log(# of features) features considered\n",
    "                                                            else all features are considered\n",
    "        amount_of_say: (float) -> used for Adaboost algorithm                                                    \n",
    "        \"\"\"\n",
    "        self.max_depth = max_depth\n",
    "        self.min_samples_leaf = min_samples_leaf\n",
    "        self.min_information_gain = min_information_gain\n",
    "        self.numb_of_features_splitting = numb_of_features_splitting\n",
    "        self.amount_of_say = amount_of_say\n",
    "    \n",
    "    def _entropy(self, class_probabilities):\n",
    "        \"\"\"\n",
    "        Calculates the entropy of a set of labels\n",
    "        \n",
    "        :param class_probabilities: a set, in this case the proportions of classes\n",
    "        \n",
    "        :return: The entropy of the supplied set\n",
    "        \"\"\"\n",
    "        return sum([-p * np.log2(p) for p in class_probabilities if p > 0])\n",
    "    \n",
    "    def _class_probabilities(self, labels):\n",
    "        \"\"\"\n",
    "        Calculates the proportion of each class in the given labels.\n",
    "\n",
    "        :param labels: An iterable of class labels.\n",
    "\n",
    "        :return: A dictionary, where the key is the class label and the value is its probability\n",
    "        \"\"\"\n",
    "        total_count = len(labels)\n",
    "        return {label: (label_count / total_count) for label, label_count in Counter(labels).items()}\n",
    "\n",
    "    def _data_entropy(self, labels: list) -> float:\n",
    "        return self._entropy(self._class_probabilities(labels))\n",
    "    \n",
    "    def _partition_entropy(self, subsets: list) -> float:\n",
    "        \"\"\"subsets = list of label lists (EX: [[1,0,0], [1,1,1])\"\"\"\n",
    "        total_count = sum([len(subset) for subset in subsets])\n",
    "        return sum([self._data_entropy(subset) * (len(subset) / total_count) for subset in subsets])"
   ],
   "id": "6cf50840655a14c2"
  },
  {
   "metadata": {},
   "cell_type": "code",
   "outputs": [],
   "execution_count": null,
   "source": "",
   "id": "2c4c1c2241530608"
  }
 ],
 "metadata": {
  "kernelspec": {
   "display_name": "Python 3",
   "language": "python",
   "name": "python3"
  },
  "language_info": {
   "codemirror_mode": {
    "name": "ipython",
    "version": 2
   },
   "file_extension": ".py",
   "mimetype": "text/x-python",
   "name": "python",
   "nbconvert_exporter": "python",
   "pygments_lexer": "ipython2",
   "version": "2.7.6"
  }
 },
 "nbformat": 4,
 "nbformat_minor": 5
}
