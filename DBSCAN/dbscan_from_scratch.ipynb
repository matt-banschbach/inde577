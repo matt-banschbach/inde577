{
 "cells": [
  {
   "cell_type": "code",
   "id": "initial_id",
   "metadata": {
    "collapsed": true,
    "ExecuteTime": {
     "end_time": "2024-11-12T00:09:26.860126Z",
     "start_time": "2024-11-12T00:09:26.856786Z"
    }
   },
   "source": [
    "# https://towardsdatascience.com/understanding-dbscan-algorithm-and-implementation-from-scratch-c256289479c5?gi=769a841f4ce1\n",
    "# https://lifewithdata.com/2023/05/28/implementing-the-dbscan-algorithm-from-scratch-in-python/"
   ],
   "outputs": [],
   "execution_count": 1
  },
  {
   "metadata": {},
   "cell_type": "code",
   "outputs": [],
   "execution_count": null,
   "source": [
    "import numpy as np\n",
    "import matplotlib.pyplot as plt"
   ],
   "id": "3dbf30a92b11081f"
  },
  {
   "metadata": {},
   "cell_type": "code",
   "outputs": [],
   "execution_count": null,
   "source": [
    "class DBSCAN:\n",
    "    def __init__(self, epsilon=1, min_pts=5):\n",
    "        self.epsilon = epsilon\n",
    "        self.min_pts = min_pts\n",
    "        self.clusters = []\n",
    "        self.noise = []\n",
    "    \n",
    "    @staticmethod\n",
    "    def _euclidean_distance(point1, point2):\n",
    "        return np.sqrt(np.sum((point1 - point2) ** 2))\n",
    "    \n",
    "    \n",
    "    def _get_neighbors(self, X, point):\n",
    "        neighbors = []\n",
    "        for index, candidate in enumerate(X):\n",
    "            if self._euclidean_distance(point, candidate) < self.epsilon:\n",
    "                neighbors.append(index)\n",
    "        return neighbors\n",
    "    \n",
    "    def fit(self, X):\n",
    "        visited = [False]*len(X)\n",
    "        for index in range(len(X)):\n",
    "            if not visited[index]:\n",
    "                visited[index] = True\n",
    "                neighbors = self._get_neighbors(X, X[index])\n",
    "                if len(neighbors) < self.min_pts:\n",
    "                    self.noise.append(index)\n",
    "                else:\n",
    "                    self._expand_cluster(X, visited, index, neighbors)\n",
    "        return self.clusters, self.noise\n",
    "    \n",
    "    def _expand_cluster(self, X, visited, index, neighbors):\n",
    "        self.clusters.append([index])\n",
    "        i = 0\n",
    "        while i < len(neighbors):\n",
    "            next_index = neighbors[i]\n",
    "            if not visited[next_index]:\n",
    "                visited[next_index] = True\n",
    "                next_neighbors = self._get_neighbors(X, X[next_index])\n",
    "                if len(next_neighbors) >= self.min_pts:\n",
    "                    neighbors += next_neighbors\n",
    "            cluster_indices = [i for cluster in self.clusters for i in cluster]\n",
    "            if next_index not in cluster_indices:\n",
    "                self.clusters[-1].append(next_index)\n",
    "            i += 1\n",
    "    \n",
    "    "
   ],
   "id": "647857add1959024"
  }
 ],
 "metadata": {
  "kernelspec": {
   "display_name": "Python 3",
   "language": "python",
   "name": "python3"
  },
  "language_info": {
   "codemirror_mode": {
    "name": "ipython",
    "version": 2
   },
   "file_extension": ".py",
   "mimetype": "text/x-python",
   "name": "python",
   "nbconvert_exporter": "python",
   "pygments_lexer": "ipython2",
   "version": "2.7.6"
  }
 },
 "nbformat": 4,
 "nbformat_minor": 5
}
