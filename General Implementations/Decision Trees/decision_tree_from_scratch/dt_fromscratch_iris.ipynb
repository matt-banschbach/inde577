{
 "cells": [
  {
   "cell_type": "code",
   "id": "initial_id",
   "metadata": {
    "collapsed": true,
    "ExecuteTime": {
     "end_time": "2024-11-05T16:54:00.397023Z",
     "start_time": "2024-11-05T16:54:00.389307Z"
    }
   },
   "source": [
    "# https://medium.com/@enozeren/building-a-decision-tree-from-scratch-324b9a5ed836\n",
    "\n",
    "# Decision Tree from scratch branch"
   ],
   "outputs": [],
   "execution_count": 1
  },
  {
   "metadata": {
    "ExecuteTime": {
     "end_time": "2024-11-05T18:39:56.866598Z",
     "start_time": "2024-11-05T18:39:56.857051Z"
    }
   },
   "cell_type": "code",
   "source": "from tree_node import TreeNode",
   "id": "a38729637ba5a8e7",
   "outputs": [],
   "execution_count": 1
  },
  {
   "metadata": {
    "ExecuteTime": {
     "end_time": "2024-11-05T18:46:55.725266Z",
     "start_time": "2024-11-05T18:46:55.524659Z"
    }
   },
   "cell_type": "code",
   "source": [
    "import numpy as np\n",
    "import seaborn as sns\n",
    "from decision_tree import DecisionTree\n",
    "import matplotlib.pyplot as plt\n",
    "from sklearn.model_selection import train_test_split\n",
    "from sklearn.datasets import load_iris"
   ],
   "id": "2ce0dee64cc409fd",
   "outputs": [],
   "execution_count": 10
  },
  {
   "metadata": {
    "ExecuteTime": {
     "end_time": "2024-11-05T18:46:56.839253Z",
     "start_time": "2024-11-05T18:46:56.814896Z"
    }
   },
   "cell_type": "code",
   "source": "iris = load_iris()",
   "id": "2c4c1c2241530608",
   "outputs": [],
   "execution_count": 11
  },
  {
   "metadata": {
    "ExecuteTime": {
     "end_time": "2024-11-05T18:46:57.516660Z",
     "start_time": "2024-11-05T18:46:57.508983Z"
    }
   },
   "cell_type": "code",
   "source": [
    "X = np.array(iris.data)\n",
    "y = np.array(iris.target)"
   ],
   "id": "afd80cea3c0c20d0",
   "outputs": [],
   "execution_count": 12
  },
  {
   "metadata": {
    "ExecuteTime": {
     "end_time": "2024-11-05T18:46:58.455635Z",
     "start_time": "2024-11-05T18:46:58.445704Z"
    }
   },
   "cell_type": "code",
   "source": [
    "X_train, X_test, y_train, y_test = train_test_split(X, y, test_size = 0.25, random_state=0)\n",
    "print(f\"Train shape: {X_train.shape} \\n Test shape: {X_test.shape}\")\n"
   ],
   "id": "99ebf7f598686e69",
   "outputs": [
    {
     "name": "stdout",
     "output_type": "stream",
     "text": [
      "Train shape: (112, 4) \n",
      " Test shape: (38, 4)\n"
     ]
    }
   ],
   "execution_count": 13
  },
  {
   "metadata": {
    "ExecuteTime": {
     "end_time": "2024-11-05T18:47:02.082331Z",
     "start_time": "2024-11-05T18:47:02.030919Z"
    }
   },
   "cell_type": "code",
   "source": [
    "dt = DecisionTree(max_depth=4, min_samples_leaf=1)\n",
    "dt.train(X_train, y_train)"
   ],
   "id": "7ef191218a26cba",
   "outputs": [],
   "execution_count": 14
  },
  {
   "metadata": {
    "ExecuteTime": {
     "end_time": "2024-11-05T18:47:09.470742Z",
     "start_time": "2024-11-05T18:47:09.456388Z"
    }
   },
   "cell_type": "code",
   "source": "dt.print_tree()",
   "id": "87f240874bdc6be4",
   "outputs": [
    {
     "name": "stdout",
     "output_type": "stream",
     "text": [
      "                                                                -> LEAF | Label Counts = 0.0->1 | Pred Probs = [1. 0. 0.]\n",
      "                                                -> NODE | Information Gain = 0.0 | Split IF X[0] < 4.4 THEN left O/W right\n",
      "                                                                -> LEAF | Label Counts = 0.0->8 | Pred Probs = [1. 0. 0.]\n",
      "                                -> NODE | Information Gain = 0.0 | Split IF X[0] < 4.775 THEN left O/W right\n",
      "                                                                -> LEAF | Label Counts = 0.0->6 | Pred Probs = [1. 0. 0.]\n",
      "                                                -> NODE | Information Gain = 0.0 | Split IF X[0] < 5.0 THEN left O/W right\n",
      "                                                                -> LEAF | Label Counts = 0.0->21 | Pred Probs = [1. 0. 0.]\n",
      "                -> NODE | Information Gain = 0.6731015728685515 | Split IF X[3] < 0.525 THEN left O/W right\n",
      "                                                -> LEAF | Label Counts = 0.0->1 | Pred Probs = [1. 0. 0.]\n",
      "                                -> NODE | Information Gain = 0.41381685030363374 | Split IF X[3] < 1.0 THEN left O/W right\n",
      "                                                                -> LEAF | Label Counts = 1.0->3 | Pred Probs = [0. 1. 0.]\n",
      "                                                -> NODE | Information Gain = 0.0 | Split IF X[0] < 5.3 THEN left O/W right\n",
      "                                                                -> LEAF | Label Counts = 1.0->8 | Pred Probs = [0. 1. 0.]\n",
      "-> NODE | Information Gain = 0.7095311377468411 | Split IF X[3] < 1.3 THEN left O/W right\n",
      "                                                                -> LEAF | Label Counts = 1.0->2, 2.0->1 | Pred Probs = [0.         0.66666667 0.33333333]\n",
      "                                                -> NODE | Information Gain = 0.14865258200778284 | Split IF X[0] < 5.6 THEN left O/W right\n",
      "                                                                -> LEAF | Label Counts = 1.0->17 | Pred Probs = [0. 1. 0.]\n",
      "                                -> NODE | Information Gain = 0.23041810979993893 | Split IF X[2] < 4.8 THEN left O/W right\n",
      "                                                                -> LEAF | Label Counts = 1.0->1, 2.0->4 | Pred Probs = [0.  0.2 0.8]\n",
      "                                                -> NODE | Information Gain = 0.22943684069673975 | Split IF X[1] < 3.0 THEN left O/W right\n",
      "                                                                -> LEAF | Label Counts = 1.0->3, 2.0->1 | Pred Probs = [0.   0.75 0.25]\n",
      "                -> NODE | Information Gain = 0.6088858430669675 | Split IF X[2] < 5.1 THEN left O/W right\n",
      "                                                                -> LEAF | Label Counts = 2.0->2 | Pred Probs = [0. 0. 1.]\n",
      "                                                -> NODE | Information Gain = 0.0 | Split IF X[0] < 5.85 THEN left O/W right\n",
      "                                                                -> LEAF | Label Counts = 2.0->5 | Pred Probs = [0. 0. 1.]\n",
      "                                -> NODE | Information Gain = 0.0 | Split IF X[0] < 6.4 THEN left O/W right\n",
      "                                                                -> LEAF | Label Counts = 2.0->7 | Pred Probs = [0. 0. 1.]\n",
      "                                                -> NODE | Information Gain = 0.0 | Split IF X[0] < 6.65 THEN left O/W right\n",
      "                                                                -> LEAF | Label Counts = 2.0->21 | Pred Probs = [0. 0. 1.]\n"
     ]
    }
   ],
   "execution_count": 15
  },
  {
   "metadata": {
    "ExecuteTime": {
     "end_time": "2024-11-05T18:51:50.970635Z",
     "start_time": "2024-11-05T18:51:50.960576Z"
    }
   },
   "cell_type": "code",
   "source": [
    "test_preds = dt.predict(X_test)\n",
    "true_preds = np.sum(test_preds == y_test)\n",
    "print(f\"For {len(y_test)} test samples, we successfully predict {true_preds}\")\n",
    "acc = true_preds / len(y_test)\n",
    "\n",
    "print(\"Accuracy: \", acc)"
   ],
   "id": "4ee52171c9010836",
   "outputs": [
    {
     "name": "stdout",
     "output_type": "stream",
     "text": [
      "For 38 test samples, we successfully predict 35\n",
      "Accuracy:  0.9210526315789473\n"
     ]
    }
   ],
   "execution_count": 17
  }
 ],
 "metadata": {
  "kernelspec": {
   "display_name": "Python 3",
   "language": "python",
   "name": "python3"
  },
  "language_info": {
   "codemirror_mode": {
    "name": "ipython",
    "version": 2
   },
   "file_extension": ".py",
   "mimetype": "text/x-python",
   "name": "python",
   "nbconvert_exporter": "python",
   "pygments_lexer": "ipython2",
   "version": "2.7.6"
  }
 },
 "nbformat": 4,
 "nbformat_minor": 5
}
