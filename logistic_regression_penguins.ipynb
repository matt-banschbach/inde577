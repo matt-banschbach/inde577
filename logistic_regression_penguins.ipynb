{
 "cells": [
  {
   "cell_type": "code",
   "id": "initial_id",
   "metadata": {
    "collapsed": true
   },
   "source": [
    "import numpy as np\n",
    "import matplotlib.pyplot as plt\n",
    "import seaborn as sns\n",
    "import pandas as pd\n",
    "\n",
    "sns.set_theme()\n",
    "\n",
    "penguins = sns.load_dataset('penguins').dropna()\n",
    "print(penguins.head())\n"
   ],
   "outputs": [],
   "execution_count": null
  },
  {
   "metadata": {},
   "cell_type": "code",
   "source": [
    "gentoo = penguins[penguins.species == 'Gentoo'][:50]\n",
    "adelie = penguins[penguins.species == 'Adelie'][:50]\n",
    "chinstrap = penguins[penguins.species == 'Chinstrap'][:50]"
   ],
   "id": "a0b9b210376e8eeb",
   "outputs": [],
   "execution_count": null
  },
  {
   "metadata": {},
   "cell_type": "code",
   "source": [
    "plt.scatter(\n",
    "    chinstrap.bill_length_mm, chinstrap.bill_depth_mm, color=\"blue\", label=\"chinstrap\"\n",
    ")\n",
    "plt.scatter(gentoo.bill_length_mm, gentoo.bill_depth_mm, color=\"magenta\", label=\"gentoo\")\n",
    "plt.xlabel('Bill Length')\n",
    "plt.ylabel('Bill Depth')\n",
    "plt.title('Gentoo vs Chinstrap')\n",
    "plt.legend()\n",
    "\n",
    "plt.show()"
   ],
   "id": "fbaa29906d98b2b2",
   "outputs": [],
   "execution_count": null
  },
  {
   "metadata": {},
   "cell_type": "code",
   "source": [
    "plt.scatter(\n",
    "    chinstrap.bill_depth_mm, np.ones(chinstrap.shape[0]), color=\"blue\", label=\"Chinstrap\"\n",
    ")\n",
    "plt.scatter(gentoo.bill_depth_mm, np.zeros(gentoo.shape[0]), color=\"magenta\", label=\"gentoo\")\n",
    "plt.xlabel('Bill Length')\n",
    "plt.ylabel('Label')\n",
    "plt.title('Chinstrap vs Gentoo Bill Length')\n",
    "plt.vlines(17, 0, 1)\n",
    "plt.legend()\n",
    "\n",
    "plt.show()"
   ],
   "id": "23bbd23ae6e71c6f",
   "outputs": [],
   "execution_count": null
  },
  {
   "metadata": {},
   "cell_type": "code",
   "source": [
    "def sigmoid_preactivation(z):\n",
    "    return 1 / (1 + np.exp(-z))"
   ],
   "id": "803e118188e834c",
   "outputs": [],
   "execution_count": null
  },
  {
   "metadata": {},
   "cell_type": "code",
   "source": [
    "class SingleNeuron(object):\n",
    "    \"\"\"\n",
    "    [WRITE DOCSTRING]\n",
    "    \"\"\"\n",
    "    # TODO: Write docstring\n",
    "    def __init__(self, activation_function, cost_function):\n",
    "        self.activation_function = activation_function\n",
    "        self.cost_function = cost_function\n",
    "\n",
    "    def train(self, X, y, alpha = 0.005, epochs = 50):\n",
    "        \n",
    "        self.w = np.random.randn(X.shape[1])\n",
    "        self.b = np.random.randn()\n",
    "        self.errors_ = []\n",
    "        N = X.shape[0]\n",
    "\n",
    "        for _ in range(epochs):\n",
    "            agg_cost = 0\n",
    "            for x_i, y_i in zip(X, y):\n",
    "                iter_error = (self.predict(x_i) - y_i)\n",
    "                self.w -= alpha*iter_error*x_i\n",
    "                self.b -= alpha*iter_error\n",
    "                agg_cost += self.cost_function(self.predict(x_i), y_i)\n",
    "            self.errors_.append(agg_cost/N)\n",
    "        \n",
    "        return self\n",
    "\n",
    "    def predict(self, X):\n",
    "        preactivation = np.dot(X, self.w) + self.b\n",
    "        return self.activation_function(preactivation)\n",
    "\n",
    "    def plot_cost_function(self):\n",
    "        fig, axs = plt.subplots(figsize = (10, 8))\n",
    "        axs.plot(range(1, len(self.errors_) + 1), \n",
    "                self.errors_,\n",
    "                label = \"Cost function\")\n",
    "        axs.set_xlabel(\"epochs\", fontsize = 15)\n",
    "        axs.set_ylabel(\"Cost\", fontsize = 15)\n",
    "        axs.legend(fontsize = 15)\n",
    "        axs.set_title(\"Cost Calculated after Epoch During Training\", fontsize = 18)\n",
    "        plt.show()"
   ],
   "id": "bb9410d77cd9e5ca",
   "outputs": [],
   "execution_count": null
  },
  {
   "metadata": {},
   "cell_type": "code",
   "source": [
    "def cross_entropy_loss(y_hat, y):\n",
    "    return - y*np.log(y_hat) - (1 - y)*np.log(1 - y_hat)"
   ],
   "id": "b5890263dcd429c7",
   "outputs": [],
   "execution_count": null
  },
  {
   "metadata": {},
   "cell_type": "code",
   "source": [
    "X = gentoo.bill_depth_mm.values\n",
    "X = np.append(X, chinstrap.bill_depth_mm.values).reshape(-1, 1)\n",
    "y_temp = np.append(gentoo.species, chinstrap.species)\n",
    "y = np.where(y_temp == \"Gentoo\", 0, 1)"
   ],
   "id": "9b5d3d05b810fb3d",
   "outputs": [],
   "execution_count": null
  },
  {
   "metadata": {},
   "cell_type": "code",
   "source": "node = SingleNeuron(sigmoid_preactivation, cross_entropy_loss)",
   "id": "41dca31b132ea2c3",
   "outputs": [],
   "execution_count": null
  },
  {
   "metadata": {},
   "cell_type": "code",
   "source": "node.train(X, y, alpha = 0.01, epochs = 10000)",
   "id": "126d2dc11dc910a3",
   "outputs": [],
   "execution_count": null
  },
  {
   "metadata": {},
   "cell_type": "code",
   "source": "node.plot_cost_function()",
   "id": "82e9b6e03637af77",
   "outputs": [],
   "execution_count": null
  },
  {
   "metadata": {},
   "cell_type": "code",
   "source": [
    "max(chinstrap.bill_depth_mm)\n",
    "min(gentoo.bill_depth_mm)"
   ],
   "id": "1bc898c02f865b7f",
   "outputs": [],
   "execution_count": null
  },
  {
   "metadata": {},
   "cell_type": "code",
   "source": [
    "plt.scatter(\n",
    "    chinstrap.bill_depth_mm, np.ones(chinstrap.shape[0]), color=\"blue\", label=\"Chinstrap\"\n",
    ")\n",
    "plt.scatter(gentoo.bill_depth_mm, np.zeros(gentoo.shape[0]), color=\"magenta\", label=\"Gentoo\")\n",
    "plt.xlabel('Bill Length')\n",
    "plt.ylabel('Label')\n",
    "plt.title('Chinstrap vs Adelie Bill Length')\n",
    "domain = np.linspace(13.1, 20.8, 100)\n",
    "plt.plot(domain, node.predict(domain.reshape(-1, 1)))\n",
    "plt.legend()\n",
    "plt.show()"
   ],
   "id": "b81f2d6a159e9856",
   "outputs": [],
   "execution_count": null
  },
  {
   "metadata": {
    "ExecuteTime": {
     "end_time": "2024-10-19T21:11:28.175212Z",
     "start_time": "2024-10-19T21:11:28.164671Z"
    }
   },
   "cell_type": "code",
   "source": [
    "outcomes = np.rint(node.predict(X)).astype(int)\n",
    "comparison = outcomes == y\n",
    "success = sum(comparison.astype(int)) / len(comparison)\n",
    "error = 1 - success\n",
    "print(\"Model Error: \", error)"
   ],
   "id": "9af077c95063eed1",
   "outputs": [
    {
     "name": "stdout",
     "output_type": "stream",
     "text": [
      "Model Error:  0.16000000000000003\n"
     ]
    }
   ],
   "execution_count": 108
  }
 ],
 "metadata": {
  "kernelspec": {
   "display_name": "Python 3",
   "language": "python",
   "name": "python3"
  },
  "language_info": {
   "codemirror_mode": {
    "name": "ipython",
    "version": 2
   },
   "file_extension": ".py",
   "mimetype": "text/x-python",
   "name": "python",
   "nbconvert_exporter": "python",
   "pygments_lexer": "ipython2",
   "version": "2.7.6"
  }
 },
 "nbformat": 4,
 "nbformat_minor": 5
}
