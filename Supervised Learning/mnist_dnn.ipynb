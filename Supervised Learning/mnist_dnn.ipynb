{
 "cells": [
  {
   "cell_type": "code",
   "id": "initial_id",
   "metadata": {
    "collapsed": true,
    "ExecuteTime": {
     "end_time": "2024-11-27T05:43:58.784251Z",
     "start_time": "2024-11-27T05:43:51.044641Z"
    }
   },
   "source": [
    "import keras\n",
    "import numpy as np\n",
    "import matplotlib.pyplot as plt\n",
    "\n",
    "(train_X, train_y), (test_X, test_y) = keras.datasets.mnist.load_data()"
   ],
   "outputs": [],
   "execution_count": 1
  },
  {
   "metadata": {
    "ExecuteTime": {
     "end_time": "2024-11-27T05:44:06.246587Z",
     "start_time": "2024-11-27T05:44:06.237186Z"
    }
   },
   "cell_type": "code",
   "source": [
    "import seaborn as sns\n",
    "# sns.get_dataset_names()"
   ],
   "id": "c18724f4c01f845a",
   "outputs": [],
   "execution_count": 2
  },
  {
   "metadata": {
    "ExecuteTime": {
     "end_time": "2024-11-27T05:44:07.656067Z",
     "start_time": "2024-11-27T05:44:07.647888Z"
    }
   },
   "cell_type": "code",
   "source": [
    "print(f\"np.shape(train_X) ={np.shape(train_X)}\")\n",
    "print(f\"np.shape(test_X) = {np.shape(test_X)} \\n\")\n",
    "\n",
    "print(f\"np.shape(train_X[0]) = {np.shape(train_X[0])}\")\n",
    "print(f\"np.shape(test_X[0]) = {np.shape(test_X[0])} \\n\")"
   ],
   "id": "c01d92494303d552",
   "outputs": [
    {
     "name": "stdout",
     "output_type": "stream",
     "text": [
      "np.shape(train_X) =(60000, 28, 28)\n",
      "np.shape(test_X) = (10000, 28, 28) \n",
      "\n",
      "np.shape(train_X[0]) = (28, 28)\n",
      "np.shape(test_X[0]) = (28, 28) \n",
      "\n"
     ]
    }
   ],
   "execution_count": 3
  },
  {
   "metadata": {
    "ExecuteTime": {
     "end_time": "2024-11-27T05:53:00.414555Z",
     "start_time": "2024-11-27T05:53:00.148792Z"
    }
   },
   "cell_type": "code",
   "source": [
    "print(f\"{train_y[12] = } \\n\")\n",
    "plt.figure(figsize=(6, 5))\n",
    "plt.imshow(train_X[12], cmap=\"gray\")\n",
    "plt.show()"
   ],
   "id": "14d6efb78b2fcd38",
   "outputs": [
    {
     "name": "stdout",
     "output_type": "stream",
     "text": [
      "train_y[12] = 3 \n",
      "\n"
     ]
    },
    {
     "data": {
      "text/plain": [
       "<Figure size 600x500 with 1 Axes>"
      ],
      "image/png": "[encoded data removed]"
     },
     "metadata": {},
     "output_type": "display_data"
    }
   ],
   "execution_count": 26
  },
  {
   "metadata": {
    "ExecuteTime": {
     "end_time": "2024-11-27T05:45:43.765162Z",
     "start_time": "2024-11-27T05:45:42.317006Z"
    }
   },
   "cell_type": "code",
   "source": [
    "# Scale --- Every value is not between 0 and 1\n",
    "train_X = train_X/255\n",
    "test_X = test_X/255\n",
    "\n",
    "# Flatten \n",
    "flat_train_X = []\n",
    "\n",
    "# One hot encode\n",
    "onehot_train_y = []\n",
    "\n",
    "for x, y in zip(train_X, train_y):\n",
    "    flat_train_X.append(x.flatten().reshape(784, 1))\n",
    "    temp_vec = np.zeros((10, 1))\n",
    "    temp_vec[y][0] = 1.0  # Set the vector at the corresponding index to 1\n",
    "    onehot_train_y.append(temp_vec)\n",
    "   \n",
    "\n",
    "# Testing Data\n",
    "flat_test_X = []\n",
    "onehot_test_y = []\n",
    "\n",
    "for x, y in zip(test_X, test_y):\n",
    "    flat_test_X.append(x.flatten().reshape(784, 1))\n",
    "    temp_vec = np.zeros((10, 1))\n",
    "    temp_vec[y] = 1.0\n",
    "    onehot_test_y.append(temp_vec)"
   ],
   "id": "53dcf8a98650d49",
   "outputs": [],
   "execution_count": 5
  },
  {
   "metadata": {
    "ExecuteTime": {
     "end_time": "2024-11-27T05:45:49.294569Z",
     "start_time": "2024-11-27T05:45:49.280061Z"
    }
   },
   "cell_type": "code",
   "source": [
    "def sigmoid(x):\n",
    "    return 1/(1+np.exp(-x))\n",
    "\n",
    "def d_sigmoid(x):\n",
    "    return sigmoid(x)*(1-sigmoid(x))\n",
    "\n",
    "def mse(a, y):\n",
    "    return .5 * sum((a[i] - y[i])**2 for i in range(10))[0]"
   ],
   "id": "4d0b6b78f34af87a",
   "outputs": [],
   "execution_count": 6
  },
  {
   "metadata": {
    "ExecuteTime": {
     "end_time": "2024-11-27T05:47:14.683331Z",
     "start_time": "2024-11-27T05:47:14.673102Z"
    }
   },
   "cell_type": "code",
   "source": [
    "def initialize_weights():\n",
    "    layers = [784, 60, 60, 10]  # Number nodes in each later, from input through output\n",
    "    W = [[0.0]]\n",
    "    B = [[0.0]]\n",
    "    for i in range(1, len(layers)):\n",
    "        w_temp = np.random.randn(layers[i], layers[i-1]) * np.sqrt(2/layers[i-1])  # Scaling Factor\n",
    "        b_temp = np.random.randn(layers[i], 1) * np.sqrt(2/layers[i-1])  # Scaling Factor\n",
    "    \n",
    "        W.append(w_temp)\n",
    "        B.append(b_temp)\n",
    "    return W, B"
   ],
   "id": "cb719994ffdef240",
   "outputs": [],
   "execution_count": 7
  },
  {
   "metadata": {
    "ExecuteTime": {
     "end_time": "2024-11-27T05:47:17.431097Z",
     "start_time": "2024-11-27T05:47:17.417836Z"
    }
   },
   "cell_type": "code",
   "source": "W, B = initialize_weights()",
   "id": "f9057664e590f0fe",
   "outputs": [],
   "execution_count": 8
  },
  {
   "metadata": {
    "ExecuteTime": {
     "end_time": "2024-11-27T05:47:19.970581Z",
     "start_time": "2024-11-27T05:47:19.960958Z"
    }
   },
   "cell_type": "code",
   "source": [
    "xi = flat_train_X[0]\n",
    "yi = onehot_train_y[0]\n",
    "a0 = xi"
   ],
   "id": "466e1fe6ebfeb0aa",
   "outputs": [],
   "execution_count": 9
  },
  {
   "metadata": {
    "ExecuteTime": {
     "end_time": "2024-11-27T05:47:22.590939Z",
     "start_time": "2024-11-27T05:47:22.580471Z"
    }
   },
   "cell_type": "code",
   "source": [
    "def forward_pass(W, B, xi, predict_vector = False):\n",
    "    Z = [[0.0]]\n",
    "    A = [xi]\n",
    "    # L = len(W) - 1\n",
    "    \n",
    "    for i in range(1, len(W)):\n",
    "        z = W[i] @ A[i-1] + B[i]\n",
    "        Z.append(z)\n",
    "        \n",
    "        a = sigmoid(z)\n",
    "        A.append(a)\n",
    "        \n",
    "    if not predict_vector:\n",
    "        return Z, A\n",
    "    else:\n",
    "        return A[-1]\n",
    "\n",
    "def predict(W, B, xi):\n",
    "    _, A = forward_pass(W, B, xi)\n",
    "    return np.argmax(A[-1])"
   ],
   "id": "611e26035823cd5b",
   "outputs": [],
   "execution_count": 10
  },
  {
   "metadata": {
    "ExecuteTime": {
     "end_time": "2024-11-27T05:47:29.032368Z",
     "start_time": "2024-11-27T05:47:29.003983Z"
    }
   },
   "cell_type": "code",
   "source": [
    "y_hat = forward_pass(W, B, flat_train_X[0], predict_vector=True)\n",
    "print(f\"Prediction: np.argmax(y_hat) = {np.argmax(y_hat)}\")\n",
    "print(f\"Target Label: np.argmax(yi) = {np.argmax(yi)}\")\n",
    "print(f\"mse(y_hat, yi) = {mse(y_hat, yi)}\")"
   ],
   "id": "46f13727cef2f157",
   "outputs": [
    {
     "name": "stdout",
     "output_type": "stream",
     "text": [
      "Prediction: np.argmax(y_hat) = 6\n",
      "Target Label: np.argmax(yi) = 5\n",
      "mse(y_hat, yi) = 1.1817036395549199\n"
     ]
    }
   ],
   "execution_count": 11
  },
  {
   "metadata": {
    "ExecuteTime": {
     "end_time": "2024-11-27T05:47:35.242666Z",
     "start_time": "2024-11-27T05:47:35.233681Z"
    }
   },
   "cell_type": "code",
   "source": [
    "def random_experiment(W, B, data_features, data_labels):\n",
    "    i = np.random.randint(len(data_features))\n",
    "    print(f\"Actual label: {np.argmax(data_labels[i])}\")\n",
    "    print(f\"Predicted label: {predict(W, B, data_features[i])}\")\n",
    "    \n",
    "\n",
    "def MSE(W, B, X, y):\n",
    "    cost = 0.0\n",
    "    m = 0\n",
    "    for xi, yi in zip(X, y):\n",
    "        a = forward_pass(W, B, xi, predict_vector = True)\n",
    "        cost += mse(a, yi)\n",
    "        m+=1\n",
    "    return cost/m"
   ],
   "id": "f1e97bc2cbe68be5",
   "outputs": [],
   "execution_count": 12
  },
  {
   "metadata": {
    "ExecuteTime": {
     "end_time": "2024-11-27T05:48:11.230371Z",
     "start_time": "2024-11-27T05:48:03.635257Z"
    }
   },
   "cell_type": "code",
   "source": [
    "print(f\"MSE(W, B, flat_train_X, onehot_train_y) = {MSE(W, B, flat_train_X, onehot_train_y)} \\n\")\n",
    "\n",
    "random_experiment(W, B, flat_train_X, onehot_train_y)"
   ],
   "id": "66d3ea2130193560",
   "outputs": [
    {
     "name": "stdout",
     "output_type": "stream",
     "text": [
      "MSE(W, B, flat_train_X, onehot_train_y) = 1.122203161858989 \n",
      "\n",
      "Actual label: 1\n",
      "Predicted label: 6\n"
     ]
    }
   ],
   "execution_count": 13
  },
  {
   "metadata": {
    "ExecuteTime": {
     "end_time": "2024-11-27T05:48:39.682108Z",
     "start_time": "2024-11-27T05:48:39.668507Z"
    }
   },
   "cell_type": "code",
   "source": [
    "class DenseNetwork(object):\n",
    "    def __init__(self):\n",
    "        self.layers = [784, 60, 60, 10]\n",
    "        self.W, self.B = initialize_weights()\n",
    "\n",
    "    def train(self, X_train, y_train, alpha = 0.046, epochs = 4):\n",
    "        # Print the initial mean squared error\n",
    "        self.cost = [MSE(self.W, self.B, X_train, y_train)]\n",
    "        print(f\"Starting Cost = {self.cost[0]}\")\n",
    "\n",
    "        # Find the number of non-input layers.\n",
    "        L = len(self.layers) - 1\n",
    "\n",
    "        # For each epoch perform stochastic gradient descent. \n",
    "        for k in range(epochs):\n",
    "            # Loop over each (xi, yi) training pair of data.\n",
    "            for xi, yi in zip(X_train, y_train):\n",
    "                # Use the forward pass function defined before\n",
    "                # and find the preactivation and post-activation values.\n",
    "                Z, A = forward_pass(self.W, self.B, xi)\n",
    "\n",
    "                # Store the errors in a dictionary for clear interpretation\n",
    "                # of computation of these values.\n",
    "                deltas = dict()\n",
    "\n",
    "                # Compute the output error \n",
    "                output_error = (A[L] - yi)*d_sigmoid(Z[L])\n",
    "                deltas[L] = output_error\n",
    "\n",
    "                # Loop from L-1 to 1. Recall the right entry of the range function \n",
    "                # is non-inclusive. \n",
    "                for i in range(L-1, 0, -1):\n",
    "                    # Compute the node errors at each hidden layer\n",
    "                    deltas[i] = (self.W[i+1].T @ deltas[i+1])*d_sigmoid(Z[i])\n",
    "\n",
    "                # Loop over each hidden layer and the output layer to perform gradient \n",
    "                # descent. \n",
    "                for i in range(1, L+1):\n",
    "                    self.W[i] -= alpha*deltas[i] @ A[i-1].T\n",
    "                    self.B[i] -= alpha*deltas[i]\n",
    "\n",
    "            # Show the user the cost over all training examples\n",
    "            self.cost.append(MSE(self.W, self.B, X_train, y_train))   \n",
    "            print(f\"{k + 1}-Epoch Cost = {self.cost[-1]}\")\n",
    "    \n",
    "\n",
    "    def predict(self, xi):\n",
    "        # depth = len(self.layers)\n",
    "        _, A = forward_pass(self.W, self.B, xi)\n",
    "        return np.argmax(A[-1])"
   ],
   "id": "b1f18eff50b82132",
   "outputs": [],
   "execution_count": 14
  },
  {
   "metadata": {
    "ExecuteTime": {
     "end_time": "2024-11-27T05:49:02.173649Z",
     "start_time": "2024-11-27T05:48:54.558249Z"
    }
   },
   "cell_type": "code",
   "source": [
    "# Initialize a network with 784 input nodes, two hidden layers with 60 nodes each \n",
    "# and a output layer with 10 nodes. \n",
    "net = DenseNetwork()\n",
    "\n",
    "# Check the mean squared error before training \n",
    "print(\"Initial MSE\")\n",
    "print(f\"MSE(net.W, net.B, flat_train_X, onehot_train_y) = {MSE(net.W, net.B, flat_train_X, onehot_train_y)} \\n\")\n",
    "\n",
    "# Make a random prediction before training\n",
    "i = np.random.randint(0, len(flat_test_X))\n",
    "prediction = net.predict(flat_test_X[i])\n",
    "print(f\"predicted digit is: {prediction}\")\n",
    "print(f\"actual digit is: {np.argmax(onehot_test_y[i])}\")\n",
    "\n",
    "# plt.figure(figsize=(8, 8))\n",
    "# plt.imshow(test_X[i], cmap=\"gray\")\n",
    "# plt.show()"
   ],
   "id": "68b6d1f0a40e9ab",
   "outputs": [
    {
     "name": "stdout",
     "output_type": "stream",
     "text": [
      "Initial MSE\n",
      "MSE(net.W, net.B, flat_train_X, onehot_train_y) = 1.3902723030428918 \n",
      "\n",
      "predicted digit is: 4\n",
      "actual digit is: 3\n"
     ]
    }
   ],
   "execution_count": 15
  },
  {
   "metadata": {
    "ExecuteTime": {
     "end_time": "2024-11-27T05:51:26.415748Z",
     "start_time": "2024-11-27T05:49:31.275105Z"
    }
   },
   "cell_type": "code",
   "source": "net.train(flat_train_X, onehot_train_y)",
   "id": "885893c23cffd9ee",
   "outputs": [
    {
     "name": "stdout",
     "output_type": "stream",
     "text": [
      "Starting Cost = 1.3902723030428918\n",
      "1-Epoch Cost = 0.07199366102946966\n",
      "2-Epoch Cost = 0.0500176901232552\n",
      "3-Epoch Cost = 0.03888546165371289\n",
      "4-Epoch Cost = 0.032484645380672736\n"
     ]
    }
   ],
   "execution_count": 16
  },
  {
   "metadata": {
    "ExecuteTime": {
     "end_time": "2024-11-27T05:51:49.325378Z",
     "start_time": "2024-11-27T05:51:48.754251Z"
    }
   },
   "cell_type": "code",
   "source": [
    "plt.figure(figsize = (10, 8))\n",
    "epochs = range(len(net.cost))\n",
    "plt.plot(epochs, net.cost, marker = \"o\")\n",
    "plt.xticks(epochs)\n",
    "plt.xlabel(\"epochs\")\n",
    "plt.ylabel(\"Mean Squared Error\")\n",
    "plt.title(\"Network MSE During Training\", fontsize = 16)\n",
    "plt.show()"
   ],
   "id": "c519d3b4345dc02",
   "outputs": [
    {
     "data": {
      "text/plain": [
       "<Figure size 1000x800 with 1 Axes>"
      ],
      "image/png": "[encoded data removed]"
     },
     "metadata": {},
     "output_type": "display_data"
    }
   ],
   "execution_count": 17
  },
  {
   "metadata": {
    "ExecuteTime": {
     "end_time": "2024-11-27T05:52:23.755859Z",
     "start_time": "2024-11-27T05:52:23.746962Z"
    }
   },
   "cell_type": "code",
   "source": [
    "i = np.random.randint(0, len(flat_test_X))\n",
    "prediction = net.predict(flat_test_X[i])\n",
    "print(f\"predicted digit is: {prediction}\")\n",
    "print(f\"actual digit is: {np.argmax(onehot_test_y[i])}\")\n",
    "\n",
    "\n",
    "# plt.figure(figsize=(8, 8))\n",
    "# plt.imshow(test_X[i], cmap=\"gray\")\n",
    "# plt.show()"
   ],
   "id": "9c1cdb120afcba44",
   "outputs": [
    {
     "name": "stdout",
     "output_type": "stream",
     "text": [
      "predicted digit is: 0\n",
      "actual digit is: 0\n"
     ]
    }
   ],
   "execution_count": 24
  },
  {
   "metadata": {
    "ExecuteTime": {
     "end_time": "2024-11-27T05:52:05.984732Z",
     "start_time": "2024-11-27T05:52:04.824872Z"
    }
   },
   "cell_type": "code",
   "source": "sum([int(net.predict(x) == y) for x, y in zip(flat_test_X, test_y)])/len(onehot_test_y)",
   "id": "b6df0fecb580d0ae",
   "outputs": [
    {
     "data": {
      "text/plain": [
       "0.9588"
      ]
     },
     "execution_count": 19,
     "metadata": {},
     "output_type": "execute_result"
    }
   ],
   "execution_count": 19
  }
 ],
 "metadata": {
  "kernelspec": {
   "display_name": "Python 3",
   "language": "python",
   "name": "python3"
  },
  "language_info": {
   "codemirror_mode": {
    "name": "ipython",
    "version": 2
   },
   "file_extension": ".py",
   "mimetype": "text/x-python",
   "name": "python",
   "nbconvert_exporter": "python",
   "pygments_lexer": "ipython2",
   "version": "2.7.6"
  }
 },
 "nbformat": 4,
 "nbformat_minor": 5
}
