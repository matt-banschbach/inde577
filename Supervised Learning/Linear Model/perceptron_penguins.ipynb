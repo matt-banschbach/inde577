{
 "cells": [
  {
   "metadata": {},
   "cell_type": "markdown",
   "source": [
    "# Single Neuron Percpetron\n",
    "___\n",
    "A single-neuron perceptron is a simple binary classifier in machine learning. It functions as follows:\n",
    "\n",
    "1. The perceptron receives input features $x_1, x_2, ..., x_n$ and associated weights $w_1, w_2, ..., w_n$.\n",
    "\n",
    "2. It calculates the weighted sum of inputs: $z = w_1x_1 + w_2x_2 + ... + w_nx_n + b$, where $b$ is the bias term.\n",
    "\n",
    "3. The output is determined by an activation function $f(z)$, typically a step function:\n",
    "   $$\n",
    "   f(z) = \\begin{cases}\n",
    "   1 & \\text{if } z > 0 \\\\\n",
    "   0 & \\text{otherwise}\n",
    "   \\end{cases}\n",
    "   $$\n",
    "\n",
    "4. During training, weights are adjusted to minimize classification errors.\n",
    "\n",
    "Benefits:\n",
    "- Simple and computationally efficient\n",
    "- Effective for linearly separable data\n",
    "- Can perform basic logic operations like AND, OR, and NOT\n",
    "\n",
    "Limitations:\n",
    "- Can only classify linearly separable data\n",
    "- Limited to binary classification\n",
    "- Unable to solve complex problems like XOR\n",
    "- Cannot handle non-linear decision boundaries\n",
    "\n",
    "The perceptron's simplicity makes it a foundational model in neural networks, but its limitations led to the development of more advanced architectures."
   ],
   "id": "f78494730e8fe670"
  },
  {
   "cell_type": "code",
   "id": "initial_id",
   "metadata": {
    "collapsed": true
   },
   "source": [
    "# Import Dependencies\n",
    "import matplotlib.pyplot as plt\n",
    "import numpy as np\n",
    "import pandas as pd\n",
    "import seaborn as sns\n",
    "from sklearn.model_selection import train_test_split\n",
    "from sklearn.preprocessing import StandardScaler"
   ],
   "outputs": [],
   "execution_count": null
  },
  {
   "metadata": {},
   "cell_type": "code",
   "source": "from em_el.classifiers import PerceptronClassifier",
   "id": "1b35ce8937411898",
   "outputs": [],
   "execution_count": null
  },
  {
   "metadata": {},
   "cell_type": "code",
   "source": [
    "# Load Data\n",
    "penguins = sns.load_dataset('penguins')\n",
    "print(len(penguins))\n",
    "print(penguins['species'].unique())"
   ],
   "id": "6237484043a9fe9b",
   "outputs": [],
   "execution_count": null
  },
  {
   "metadata": {},
   "cell_type": "code",
   "source": [
    "df = penguins[penguins['species'] != 'Chinstrap'].dropna()  # Remove the Chinstrap penguins\n",
    "print(df.shape)\n",
    "df_clean = df[['species', 'bill_length_mm', 'bill_depth_mm', 'flipper_length_mm', 'body_mass_g']]"
   ],
   "id": "960c1a3463217619",
   "outputs": [],
   "execution_count": null
  },
  {
   "metadata": {},
   "cell_type": "code",
   "source": [
    "gentoo = df_clean[df_clean.species == 'Gentoo']\n",
    "adelie = df_clean[df_clean.species == 'Adelie']\n",
    "\n",
    "print(gentoo.shape)\n",
    "print(adelie.shape)"
   ],
   "id": "4ff4bd392b429450",
   "outputs": [],
   "execution_count": null
  },
  {
   "metadata": {},
   "cell_type": "code",
   "source": [
    "X = df_clean[['bill_length_mm', 'bill_depth_mm']].to_numpy()\n",
    "y = df_clean['species'].to_numpy()\n",
    "y = np.where(y == 'Gentoo', -1.0, 1.0).reshape(-1, 1)\n",
    "\n",
    "print(f\"X shape {X.shape}\")\n",
    "print(f\"y shape {y.shape}\")\n",
    "\n",
    "X = StandardScaler().fit_transform(X)\n",
    "\n",
    "# Split Data\n",
    "X_train, X_test, y_train, y_test = train_test_split(X, y, test_size=0.3, random_state=42)"
   ],
   "id": "a621f45fa79eb211",
   "outputs": [],
   "execution_count": null
  },
  {
   "metadata": {},
   "cell_type": "code",
   "source": [
    "plt.scatter(gentoo.bill_length_mm, gentoo.bill_depth_mm, color=\"magenta\", label=\"Gentoo\")\n",
    "plt.scatter(adelie.bill_length_mm, adelie.bill_depth_mm, color=\"blue\", label=\"Adelie\")\n",
    "\n",
    "plt.xlabel('Bill Length')\n",
    "plt.ylabel('Bill Depth')\n",
    "plt.title('Bill Length vs Depth by Species')\n",
    "plt.legend()\n",
    "plt.show()"
   ],
   "id": "502fe7e7f175538d",
   "outputs": [],
   "execution_count": null
  },
  {
   "metadata": {},
   "cell_type": "code",
   "source": [
    "class Perceptron(object):\n",
    "    \"\"\"\n",
    "    Single Neuron\n",
    "    \"\"\"\n",
    "    \n",
    "    def __init__(self, eta = 0.001, epochs = 50):\n",
    "        self.eta = eta\n",
    "        self.epochs = epochs\n",
    "        \n",
    "        \n",
    "    def train(self, X, y):\n",
    "        self.w = np.random.rand(X.shape[1])\n",
    "        self.b = np.random.rand()\n",
    "        self.errors_ = []\n",
    "        \n",
    "        for _ in range(self.epochs):\n",
    "            error = 0\n",
    "            for x_i, y_i in zip(X, y):\n",
    "                update = self.eta * (self.predict(x_i) - y_i)\n",
    "                self.w -= update*x_i\n",
    "                self.b -= update\n",
    "                error += np.int_(update != 0)\n",
    "            self.errors_.append(error)\n",
    "                \n",
    "                \n",
    "    def net_input(self, x):\n",
    "        return np.dot(x, self.w) + self.b\n",
    "    \n",
    "    def predict(self, x):\n",
    "        return np.where(self.net_input(x)>=0.0, 1, -1)\n",
    "        "
   ],
   "id": "a5562309ba5951e3",
   "outputs": [],
   "execution_count": null
  },
  {
   "metadata": {},
   "cell_type": "code",
   "source": [
    "percep = Perceptron(epochs = 10000)\n",
    "percep.train(X_train, y_train)"
   ],
   "id": "db932c592cb8afc0",
   "outputs": [],
   "execution_count": null
  },
  {
   "metadata": {},
   "cell_type": "code",
   "source": [
    "percep = PerceptronClassifier()\n",
    "percep.train(X_train, y_train, alpha = 0.001, epochs = 1500)\n",
    "# percep.plot_cost_function()"
   ],
   "id": "88e616b0dfeb4536",
   "outputs": [],
   "execution_count": null
  },
  {
   "metadata": {},
   "cell_type": "code",
   "source": "y_hat = percep.predict(X_test)",
   "id": "896e4491cf33e434",
   "outputs": [],
   "execution_count": null
  },
  {
   "metadata": {},
   "cell_type": "code",
   "source": [
    "plt.plot(percep.errors_)\n",
    "plt.xlabel(\"Epoch\")\n",
    "plt.ylabel(\"Epoch Error\")\n",
    "plt.title(\"Error by Epoch\")\n",
    "plt.show()"
   ],
   "id": "e7d253db3741fa1f",
   "outputs": [],
   "execution_count": null
  },
  {
   "metadata": {},
   "cell_type": "code",
   "source": "y_hat",
   "id": "c8a7e650d385753d",
   "outputs": [],
   "execution_count": null
  },
  {
   "metadata": {},
   "cell_type": "code",
   "source": [
    "classification_success = np.mean(np.int_(y_hat == y_test))\n",
    "classification_error = 1 - classification_success\n",
    "print(classification_error)"
   ],
   "id": "2a939bde50cb3eb9",
   "outputs": [],
   "execution_count": null
  }
 ],
 "metadata": {
  "kernelspec": {
   "display_name": "Python 3",
   "language": "python",
   "name": "python3"
  },
  "language_info": {
   "codemirror_mode": {
    "name": "ipython",
    "version": 2
   },
   "file_extension": ".py",
   "mimetype": "text/x-python",
   "name": "python",
   "nbconvert_exporter": "python",
   "pygments_lexer": "ipython2",
   "version": "2.7.6"
  }
 },
 "nbformat": 4,
 "nbformat_minor": 5
}
