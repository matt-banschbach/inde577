{
 "cells": [
  {
   "metadata": {
    "ExecuteTime": {
     "end_time": "2024-12-17T22:46:46.951614Z",
     "start_time": "2024-12-17T22:46:34.972942Z"
    }
   },
   "cell_type": "code",
   "source": [
    "import numpy as np\n",
    "import matplotlib.pyplot as plt\n",
    "\n",
    "from sklearn.model_selection import train_test_split, GridSearchCV\n",
    "from sklearn.metrics import accuracy_score, classification_report, confusion_matrix\n",
    "\n",
    "from em_el.utils import draw_confusion_matrix\n",
    "from em_el.tree import DecisionTree\n",
    "from em_el.datasets import load_wine\n"
   ],
   "id": "2ce0dee64cc409fd",
   "outputs": [],
   "execution_count": 2
  },
  {
   "metadata": {
    "ExecuteTime": {
     "end_time": "2024-12-17T22:46:47.161824Z",
     "start_time": "2024-12-17T22:46:47.144104Z"
    }
   },
   "cell_type": "code",
   "source": "wine = load_wine()",
   "id": "2c4c1c2241530608",
   "outputs": [],
   "execution_count": 3
  },
  {
   "metadata": {
    "ExecuteTime": {
     "end_time": "2024-12-17T22:46:47.210278Z",
     "start_time": "2024-12-17T22:46:47.195952Z"
    }
   },
   "cell_type": "code",
   "source": [
    "X = wine.drop('target', axis=1).to_numpy()\n",
    "y = wine['target'].to_numpy()\n",
    "X_train, X_test, y_train, y_test = train_test_split(X, y, test_size = 0.25, random_state=0)\n",
    "print(f\"Train shape: {X_train.shape} \\n Test shape: {X_test.shape}\")\n"
   ],
   "id": "99ebf7f598686e69",
   "outputs": [
    {
     "name": "stdout",
     "output_type": "stream",
     "text": [
      "Train shape: (133, 13) \n",
      " Test shape: (45, 13)\n"
     ]
    }
   ],
   "execution_count": 4
  },
  {
   "metadata": {
    "ExecuteTime": {
     "end_time": "2024-12-17T22:46:55.648758Z",
     "start_time": "2024-12-17T22:46:55.505176Z"
    }
   },
   "cell_type": "code",
   "source": [
    "dt = DecisionTree(max_depth=4, min_samples_leaf=1)\n",
    "dt.train(X_train, y_train)\n",
    "y_hat = dt.predict(X_test)"
   ],
   "id": "79c8689511d556ca",
   "outputs": [],
   "execution_count": 6
  },
  {
   "metadata": {
    "ExecuteTime": {
     "end_time": "2024-12-17T22:46:57.970848Z",
     "start_time": "2024-12-17T22:46:57.953209Z"
    }
   },
   "cell_type": "code",
   "source": "dt.print_tree()",
   "id": "4ee52171c9010836",
   "outputs": [
    {
     "name": "stdout",
     "output_type": "stream",
     "text": [
      "                                                                -> LEAF | Label Counts = 1.0->2 | Pred Probs = [0. 1. 0.]\n",
      "                                                -> NODE | Information Gain = 0.8112781244591328 | Split IF X[1] < 2.6375 THEN left O/W right\n",
      "                                                                -> LEAF | Label Counts = 2.0->6 | Pred Probs = [0. 0. 1.]\n",
      "                                -> NODE | Information Gain = 0.3652896693946638 | Split IF X[6] < 1.02 THEN left O/W right\n",
      "                                                                -> LEAF | Label Counts = 1.0->4, 2.0->1 | Pred Probs = [0.  0.8 0.2]\n",
      "                                                -> NODE | Information Gain = 0.09790657010494236 | Split IF X[7] < 0.3 THEN left O/W right\n",
      "                                                                -> LEAF | Label Counts = 1.0->20 | Pred Probs = [0. 1. 0.]\n",
      "                -> NODE | Information Gain = 0.5945358575414802 | Split IF X[9] < 4.96 THEN left O/W right\n",
      "                                                                -> LEAF | Label Counts = 2.0->2 | Pred Probs = [0. 0. 1.]\n",
      "                                                -> NODE | Information Gain = 0.0 | Split IF X[0] < 12.399999999999999 THEN left O/W right\n",
      "                                                                -> LEAF | Label Counts = 2.0->6 | Pred Probs = [0. 0. 1.]\n",
      "                                -> NODE | Information Gain = 0.0 | Split IF X[0] < 12.77 THEN left O/W right\n",
      "                                                                -> LEAF | Label Counts = 2.0->6 | Pred Probs = [0. 0. 1.]\n",
      "                                                -> NODE | Information Gain = 0.0 | Split IF X[0] < 12.96 THEN left O/W right\n",
      "                                                                -> LEAF | Label Counts = 2.0->19 | Pred Probs = [0. 0. 1.]\n",
      "-> NODE | Information Gain = 0.6244533795757101 | Split IF X[6] < 2.04 THEN left O/W right\n",
      "                                                                -> LEAF | Label Counts = 1.0->1 | Pred Probs = [0. 1. 0.]\n",
      "                                                -> NODE | Information Gain = 0.0 | Split IF X[0] < 11.344999999999999 THEN left O/W right\n",
      "                                                                -> LEAF | Label Counts = 1.0->3 | Pred Probs = [0. 1. 0.]\n",
      "                                -> NODE | Information Gain = 0.0 | Split IF X[0] < 11.79 THEN left O/W right\n",
      "                                                                -> LEAF | Label Counts = 1.0->3 | Pred Probs = [0. 1. 0.]\n",
      "                                                -> NODE | Information Gain = 0.0 | Split IF X[0] < 11.96 THEN left O/W right\n",
      "                                                                -> LEAF | Label Counts = 1.0->10 | Pred Probs = [0. 1. 0.]\n",
      "                -> NODE | Information Gain = 0.5051873240153731 | Split IF X[0] < 12.395 THEN left O/W right\n",
      "                                                                -> LEAF | Label Counts = 1.0->6 | Pred Probs = [0. 1. 0.]\n",
      "                                                -> NODE | Information Gain = 0.6771344174636723 | Split IF X[9] < 3.58 THEN left O/W right\n",
      "                                                                -> LEAF | Label Counts = 0.0->6, 1.0->1 | Pred Probs = [0.85714286 0.14285714 0.        ]\n",
      "                                -> NODE | Information Gain = 0.3253496741007753 | Split IF X[9] < 4.0125 THEN left O/W right\n",
      "                                                                -> LEAF | Label Counts = 0.0->9 | Pred Probs = [1. 0. 0.]\n",
      "                                                -> NODE | Information Gain = 0.0 | Split IF X[0] < 13.51 THEN left O/W right\n",
      "                                                                -> LEAF | Label Counts = 0.0->28 | Pred Probs = [1. 0. 0.]\n"
     ]
    }
   ],
   "execution_count": 7
  },
  {
   "metadata": {
    "ExecuteTime": {
     "end_time": "2024-12-17T22:47:00.206269Z",
     "start_time": "2024-12-17T22:46:59.931789Z"
    }
   },
   "cell_type": "code",
   "source": [
    "accuracy = accuracy_score(y_test, y_hat)\n",
    "print(\"Accuracy: \", accuracy)\n",
    "\n",
    "clf_rep = classification_report(y_test, y_hat)\n",
    "print(\"Classification Report: \\n\", clf_rep)\n",
    "\n",
    "confusion_matrix = confusion_matrix(y_test, y_hat)\n",
    "print(\"Confusion Matrix:\\n\", confusion_matrix)\n",
    "\n",
    "draw_confusion_matrix(confusion_matrix, \"Wine CF Matrix\")"
   ],
   "id": "63091f2d66bf93ed",
   "outputs": [
    {
     "name": "stdout",
     "output_type": "stream",
     "text": [
      "Accuracy:  0.9111111111111111\n",
      "Classification Report: \n",
      "               precision    recall  f1-score   support\n",
      "\n",
      "           0       0.88      0.94      0.91        16\n",
      "           1       0.95      0.86      0.90        21\n",
      "           2       0.89      1.00      0.94         8\n",
      "\n",
      "    accuracy                           0.91        45\n",
      "   macro avg       0.91      0.93      0.92        45\n",
      "weighted avg       0.91      0.91      0.91        45\n",
      "\n",
      "Confusion Matrix:\n",
      " [[15  1  0]\n",
      " [ 2 18  1]\n",
      " [ 0  0  8]]\n"
     ]
    },
    {
     "data": {
      "text/plain": [
       "<Figure size 900x600 with 1 Axes>"
      ],
      "image/png": "[encoded data removed]"
     },
     "metadata": {},
     "output_type": "display_data"
    }
   ],
   "execution_count": 8
  },
  {
   "metadata": {},
   "cell_type": "code",
   "source": "",
   "id": "2b38d16efdf51485",
   "outputs": [],
   "execution_count": null
  }
 ],
 "metadata": {
  "kernelspec": {
   "display_name": "Python 3",
   "language": "python",
   "name": "python3"
  },
  "language_info": {
   "codemirror_mode": {
    "name": "ipython",
    "version": 2
   },
   "file_extension": ".py",
   "mimetype": "text/x-python",
   "name": "python",
   "nbconvert_exporter": "python",
   "pygments_lexer": "ipython2",
   "version": "2.7.6"
  }
 },
 "nbformat": 4,
 "nbformat_minor": 5
}
