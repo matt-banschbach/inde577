{
 "cells": [
  {
   "cell_type": "code",
   "id": "initial_id",
   "metadata": {
    "collapsed": true,
    "ExecuteTime": {
     "end_time": "2024-12-11T03:51:03.923157Z",
     "start_time": "2024-12-11T03:51:03.919475Z"
    }
   },
   "source": [
    "# https://medium.com/@enozeren/building-a-decision-tree-from-scratch-324b9a5ed836\n",
    "# Decision Tree from scratch branch"
   ],
   "outputs": [],
   "execution_count": 1
  },
  {
   "metadata": {
    "ExecuteTime": {
     "end_time": "2024-12-11T04:04:18.197722Z",
     "start_time": "2024-12-11T04:04:18.193176Z"
    }
   },
   "cell_type": "code",
   "source": "from tree_node import TreeNode",
   "id": "a38729637ba5a8e7",
   "outputs": [],
   "execution_count": 1
  },
  {
   "metadata": {
    "ExecuteTime": {
     "end_time": "2024-12-11T04:04:18.977131Z",
     "start_time": "2024-12-11T04:04:18.813357Z"
    }
   },
   "cell_type": "code",
   "source": [
    "import numpy as np\n",
    "from decision_tree import DecisionTree\n",
    "import matplotlib.pyplot as plt\n",
    "\n",
    "from sklearn.model_selection import train_test_split\n",
    "from sklearn.datasets import load_wine\n",
    "from sklearn.metrics import accuracy_score, classification_report, confusion_matrix\n",
    "\n",
    "from em_el.utils import draw_confusion_matrix"
   ],
   "id": "2ce0dee64cc409fd",
   "outputs": [],
   "execution_count": 2
  },
  {
   "metadata": {
    "ExecuteTime": {
     "end_time": "2024-12-11T04:04:20.560425Z",
     "start_time": "2024-12-11T04:04:20.549622Z"
    }
   },
   "cell_type": "code",
   "source": "wine = load_wine()",
   "id": "2c4c1c2241530608",
   "outputs": [],
   "execution_count": 3
  },
  {
   "metadata": {
    "ExecuteTime": {
     "end_time": "2024-12-11T04:04:21.201913Z",
     "start_time": "2024-12-11T04:04:21.197736Z"
    }
   },
   "cell_type": "code",
   "source": [
    "X = np.array(wine.data)\n",
    "y = np.array(wine.target)"
   ],
   "id": "afd80cea3c0c20d0",
   "outputs": [],
   "execution_count": 4
  },
  {
   "metadata": {
    "ExecuteTime": {
     "end_time": "2024-12-11T04:04:22.483575Z",
     "start_time": "2024-12-11T04:04:22.477546Z"
    }
   },
   "cell_type": "code",
   "source": [
    "X_train, X_test, y_train, y_test = train_test_split(X, y, test_size = 0.25, random_state=0)\n",
    "print(f\"Train shape: {X_train.shape} \\n Test shape: {X_test.shape}\")\n"
   ],
   "id": "99ebf7f598686e69",
   "outputs": [
    {
     "name": "stdout",
     "output_type": "stream",
     "text": [
      "Train shape: (133, 13) \n",
      " Test shape: (45, 13)\n"
     ]
    }
   ],
   "execution_count": 5
  },
  {
   "metadata": {
    "ExecuteTime": {
     "end_time": "2024-12-11T04:04:24.137517Z",
     "start_time": "2024-12-11T04:04:24.081361Z"
    }
   },
   "cell_type": "code",
   "source": [
    "dt = DecisionTree(max_depth=4, min_samples_leaf=1)\n",
    "dt.train(X_train, y_train)"
   ],
   "id": "7ef191218a26cba",
   "outputs": [],
   "execution_count": 6
  },
  {
   "metadata": {
    "ExecuteTime": {
     "end_time": "2024-12-11T03:56:46.504164Z",
     "start_time": "2024-12-11T03:56:46.492314Z"
    }
   },
   "cell_type": "code",
   "source": "dt.print_tree()",
   "id": "87f240874bdc6be4",
   "outputs": [
    {
     "name": "stdout",
     "output_type": "stream",
     "text": [
      "                                                                -> LEAF | Label Counts = 1.0->2 | Pred Probs = [0. 1. 0.]\n",
      "                                                -> NODE | Information Gain = 0.8112781244591328 | Split IF X[1] < 2.6375 THEN left O/W right\n",
      "                                                                -> LEAF | Label Counts = 2.0->6 | Pred Probs = [0. 0. 1.]\n",
      "                                -> NODE | Information Gain = 0.3652896693946638 | Split IF X[6] < 1.02 THEN left O/W right\n",
      "                                                                -> LEAF | Label Counts = 1.0->4, 2.0->1 | Pred Probs = [0.  0.8 0.2]\n",
      "                                                -> NODE | Information Gain = 0.09790657010494236 | Split IF X[7] < 0.3 THEN left O/W right\n",
      "                                                                -> LEAF | Label Counts = 1.0->20 | Pred Probs = [0. 1. 0.]\n",
      "                -> NODE | Information Gain = 0.5945358575414802 | Split IF X[9] < 4.96 THEN left O/W right\n",
      "                                                                -> LEAF | Label Counts = 2.0->2 | Pred Probs = [0. 0. 1.]\n",
      "                                                -> NODE | Information Gain = 0.0 | Split IF X[0] < 12.399999999999999 THEN left O/W right\n",
      "                                                                -> LEAF | Label Counts = 2.0->6 | Pred Probs = [0. 0. 1.]\n",
      "                                -> NODE | Information Gain = 0.0 | Split IF X[0] < 12.77 THEN left O/W right\n",
      "                                                                -> LEAF | Label Counts = 2.0->6 | Pred Probs = [0. 0. 1.]\n",
      "                                                -> NODE | Information Gain = 0.0 | Split IF X[0] < 12.96 THEN left O/W right\n",
      "                                                                -> LEAF | Label Counts = 2.0->19 | Pred Probs = [0. 0. 1.]\n",
      "-> NODE | Information Gain = 0.6244533795757101 | Split IF X[6] < 2.04 THEN left O/W right\n",
      "                                                                -> LEAF | Label Counts = 1.0->1 | Pred Probs = [0. 1. 0.]\n",
      "                                                -> NODE | Information Gain = 0.0 | Split IF X[0] < 11.344999999999999 THEN left O/W right\n",
      "                                                                -> LEAF | Label Counts = 1.0->3 | Pred Probs = [0. 1. 0.]\n",
      "                                -> NODE | Information Gain = 0.0 | Split IF X[0] < 11.79 THEN left O/W right\n",
      "                                                                -> LEAF | Label Counts = 1.0->3 | Pred Probs = [0. 1. 0.]\n",
      "                                                -> NODE | Information Gain = 0.0 | Split IF X[0] < 11.96 THEN left O/W right\n",
      "                                                                -> LEAF | Label Counts = 1.0->10 | Pred Probs = [0. 1. 0.]\n",
      "                -> NODE | Information Gain = 0.5051873240153731 | Split IF X[0] < 12.395 THEN left O/W right\n",
      "                                                                -> LEAF | Label Counts = 1.0->6 | Pred Probs = [0. 1. 0.]\n",
      "                                                -> NODE | Information Gain = 0.6771344174636723 | Split IF X[9] < 3.58 THEN left O/W right\n",
      "                                                                -> LEAF | Label Counts = 0.0->6, 1.0->1 | Pred Probs = [0.85714286 0.14285714 0.        ]\n",
      "                                -> NODE | Information Gain = 0.3253496741007753 | Split IF X[9] < 4.0125 THEN left O/W right\n",
      "                                                                -> LEAF | Label Counts = 0.0->9 | Pred Probs = [1. 0. 0.]\n",
      "                                                -> NODE | Information Gain = 0.0 | Split IF X[0] < 13.51 THEN left O/W right\n",
      "                                                                -> LEAF | Label Counts = 0.0->28 | Pred Probs = [1. 0. 0.]\n"
     ]
    }
   ],
   "execution_count": 26
  },
  {
   "metadata": {
    "ExecuteTime": {
     "end_time": "2024-12-11T04:04:26.454805Z",
     "start_time": "2024-12-11T04:04:26.449890Z"
    }
   },
   "cell_type": "code",
   "source": [
    "y_hat = dt.predict(X_test)\n",
    "true_preds = np.sum(y_hat == y_test)\n",
    "\n",
    "print(f\"For {len(y_test)} test samples, we successfully predict {true_preds}\")\n",
    "acc = true_preds / len(y_test)\n",
    "print(\"Accuracy: \", acc)"
   ],
   "id": "4ee52171c9010836",
   "outputs": [
    {
     "name": "stdout",
     "output_type": "stream",
     "text": [
      "For 45 test samples, we successfully predict 41\n",
      "Accuracy:  0.9111111111111111\n"
     ]
    }
   ],
   "execution_count": 7
  },
  {
   "metadata": {
    "ExecuteTime": {
     "end_time": "2024-12-11T04:04:28.062503Z",
     "start_time": "2024-12-11T04:04:27.940904Z"
    }
   },
   "cell_type": "code",
   "source": [
    "accuracy = accuracy_score(y_test, y_hat)\n",
    "print(\"Accuracy: \", accuracy)\n",
    "\n",
    "clf_rep = classification_report(y_test, y_hat)\n",
    "print(\"Classification Report: \\n\", clf_rep)\n",
    "\n",
    "confusion_matrix = confusion_matrix(y_test, y_hat)\n",
    "print(\"Confusion Matrix:\\n\", confusion_matrix)\n",
    "\n",
    "draw_confusion_matrix(confusion_matrix, \"Wine CF Matrix\")"
   ],
   "id": "4e836e50a601453f",
   "outputs": [
    {
     "name": "stdout",
     "output_type": "stream",
     "text": [
      "Accuracy:  0.9111111111111111\n",
      "Classification Report: \n",
      "               precision    recall  f1-score   support\n",
      "\n",
      "           0       0.88      0.94      0.91        16\n",
      "           1       0.95      0.86      0.90        21\n",
      "           2       0.89      1.00      0.94         8\n",
      "\n",
      "    accuracy                           0.91        45\n",
      "   macro avg       0.91      0.93      0.92        45\n",
      "weighted avg       0.91      0.91      0.91        45\n",
      "\n",
      "Confusion Matrix:\n",
      " [[15  1  0]\n",
      " [ 2 18  1]\n",
      " [ 0  0  8]]\n"
     ]
    },
    {
     "data": {
      "text/plain": [
       "<Figure size 900x600 with 1 Axes>"
      ],
      "image/png": "[encoded data removed]"
     },
     "metadata": {},
     "output_type": "display_data"
    }
   ],
   "execution_count": 8
  }
 ],
 "metadata": {
  "kernelspec": {
   "display_name": "Python 3",
   "language": "python",
   "name": "python3"
  },
  "language_info": {
   "codemirror_mode": {
    "name": "ipython",
    "version": 2
   },
   "file_extension": ".py",
   "mimetype": "text/x-python",
   "name": "python",
   "nbconvert_exporter": "python",
   "pygments_lexer": "ipython2",
   "version": "2.7.6"
  }
 },
 "nbformat": 4,
 "nbformat_minor": 5
}
