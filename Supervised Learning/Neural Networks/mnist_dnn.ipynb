{
 "cells": [
  {
   "cell_type": "code",
   "id": "d7365b0ecab723c3",
   "metadata": {
    "ExecuteTime": {
     "end_time": "2024-12-17T18:19:32.512063Z",
     "start_time": "2024-12-17T18:19:32.505466Z"
    }
   },
   "source": [
    "import keras\n",
    "import numpy as np\n",
    "import matplotlib.pyplot as plt"
   ],
   "outputs": [],
   "execution_count": 5
  },
  {
   "metadata": {
    "collapsed": true,
    "ExecuteTime": {
     "end_time": "2024-12-17T18:19:33.088928Z",
     "start_time": "2024-12-17T18:19:32.550641Z"
    }
   },
   "cell_type": "code",
   "source": "(train_X, train_y), (test_X, test_y) = keras.datasets.mnist.load_data()",
   "id": "initial_id",
   "outputs": [],
   "execution_count": 6
  },
  {
   "metadata": {
    "ExecuteTime": {
     "end_time": "2024-12-17T18:19:33.136393Z",
     "start_time": "2024-12-17T18:19:33.127047Z"
    }
   },
   "cell_type": "code",
   "source": [
    "print(f\"np.shape(train_X) ={np.shape(train_X)}\")\n",
    "print(f\"np.shape(test_X) = {np.shape(test_X)} \\n\")\n",
    "\n",
    "print(f\"np.shape(train_X[0]) = {np.shape(train_X[0])}\")\n",
    "print(f\"np.shape(test_X[0]) = {np.shape(test_X[0])} \\n\")"
   ],
   "id": "c01d92494303d552",
   "outputs": [
    {
     "name": "stdout",
     "output_type": "stream",
     "text": [
      "np.shape(train_X) =(60000, 28, 28)\n",
      "np.shape(test_X) = (10000, 28, 28) \n",
      "\n",
      "np.shape(train_X[0]) = (28, 28)\n",
      "np.shape(test_X[0]) = (28, 28) \n",
      "\n"
     ]
    }
   ],
   "execution_count": 7
  },
  {
   "metadata": {
    "ExecuteTime": {
     "end_time": "2024-12-17T18:19:33.510383Z",
     "start_time": "2024-12-17T18:19:33.217219Z"
    }
   },
   "cell_type": "code",
   "source": [
    "print(f\"{train_y[12] = } \\n\")\n",
    "plt.figure(figsize=(6, 5))\n",
    "plt.imshow(train_X[12], cmap=\"gray\")\n",
    "plt.show()"
   ],
   "id": "14d6efb78b2fcd38",
   "outputs": [
    {
     "name": "stdout",
     "output_type": "stream",
     "text": [
      "train_y[12] = 3 \n",
      "\n"
     ]
    },
    {
     "data": {
      "text/plain": [
       "<Figure size 600x500 with 1 Axes>"
      ],
      "image/png": "[encoded data removed]"
     },
     "metadata": {},
     "output_type": "display_data"
    }
   ],
   "execution_count": 8
  },
  {
   "metadata": {
    "ExecuteTime": {
     "end_time": "2024-12-17T18:19:34.828649Z",
     "start_time": "2024-12-17T18:19:33.534698Z"
    }
   },
   "cell_type": "code",
   "source": [
    "# Scale --- Every value is not between 0 and 1\n",
    "train_X = train_X/255\n",
    "test_X = test_X/255\n",
    "\n",
    "# Flatten \n",
    "flat_train_X = []\n",
    "\n",
    "# One hot encode\n",
    "onehot_train_y = []\n",
    "\n",
    "for x, y in zip(train_X, train_y):\n",
    "    flat_train_X.append(x.flatten().reshape(784, 1))\n",
    "    temp_vec = np.zeros((10, 1))\n",
    "    temp_vec[y][0] = 1.0  # Set the vector at the corresponding index to 1\n",
    "    onehot_train_y.append(temp_vec)\n",
    "   \n",
    "\n",
    "# Testing Data\n",
    "flat_test_X = []\n",
    "onehot_test_y = []\n",
    "\n",
    "for x, y in zip(test_X, test_y):\n",
    "    flat_test_X.append(x.flatten().reshape(784, 1))\n",
    "    temp_vec = np.zeros((10, 1))\n",
    "    temp_vec[y] = 1.0\n",
    "    onehot_test_y.append(temp_vec)"
   ],
   "id": "53dcf8a98650d49",
   "outputs": [],
   "execution_count": 9
  },
  {
   "metadata": {
    "ExecuteTime": {
     "end_time": "2024-12-17T18:19:34.892790Z",
     "start_time": "2024-12-17T18:19:34.881445Z"
    }
   },
   "cell_type": "code",
   "source": [
    "def sigmoid(x):\n",
    "    return 1/(1+np.exp(-x))\n",
    "\n",
    "def d_sigmoid(x):\n",
    "    return sigmoid(x)*(1-sigmoid(x))\n",
    "\n",
    "def mse(a, y):\n",
    "    return .5 * sum((a[i] - y[i])**2 for i in range(10))[0]"
   ],
   "id": "4d0b6b78f34af87a",
   "outputs": [],
   "execution_count": 10
  },
  {
   "metadata": {
    "ExecuteTime": {
     "end_time": "2024-12-17T18:19:34.950484Z",
     "start_time": "2024-12-17T18:19:34.942254Z"
    }
   },
   "cell_type": "code",
   "source": [
    "def initialize_weights():\n",
    "    layers = [784, 60, 60, 10]  # Number nodes in each later, from input through output\n",
    "    W = [[0.0]]\n",
    "    B = [[0.0]]\n",
    "    for i in range(1, len(layers)):\n",
    "        w_temp = np.random.randn(layers[i], layers[i-1]) * np.sqrt(2/layers[i-1])  # Scaling Factor\n",
    "        b_temp = np.random.randn(layers[i], 1) * np.sqrt(2/layers[i-1])  # Scaling Factor\n",
    "    \n",
    "        W.append(w_temp)\n",
    "        B.append(b_temp)\n",
    "    return W, B"
   ],
   "id": "cb719994ffdef240",
   "outputs": [],
   "execution_count": 11
  },
  {
   "metadata": {
    "ExecuteTime": {
     "end_time": "2024-12-17T18:19:35.006423Z",
     "start_time": "2024-12-17T18:19:34.994923Z"
    }
   },
   "cell_type": "code",
   "source": "W, B = initialize_weights()",
   "id": "f9057664e590f0fe",
   "outputs": [],
   "execution_count": 12
  },
  {
   "metadata": {
    "ExecuteTime": {
     "end_time": "2024-12-17T18:19:35.059172Z",
     "start_time": "2024-12-17T18:19:35.053226Z"
    }
   },
   "cell_type": "code",
   "source": [
    "xi = flat_train_X[0]\n",
    "yi = onehot_train_y[0]\n",
    "a0 = xi"
   ],
   "id": "466e1fe6ebfeb0aa",
   "outputs": [],
   "execution_count": 13
  },
  {
   "metadata": {
    "ExecuteTime": {
     "end_time": "2024-12-17T18:19:35.120807Z",
     "start_time": "2024-12-17T18:19:35.112564Z"
    }
   },
   "cell_type": "code",
   "source": [
    "def forward_pass(W, B, xi, predict_vector = False):\n",
    "    Z = [[0.0]]\n",
    "    A = [xi]\n",
    "    # L = len(W) - 1\n",
    "    \n",
    "    for i in range(1, len(W)):\n",
    "        z = W[i] @ A[i-1] + B[i]\n",
    "        Z.append(z)\n",
    "        \n",
    "        a = sigmoid(z)\n",
    "        A.append(a)\n",
    "        \n",
    "    if not predict_vector:\n",
    "        return Z, A\n",
    "    else:\n",
    "        return A[-1]\n",
    "\n",
    "def predict(W, B, xi):\n",
    "    _, A = forward_pass(W, B, xi)\n",
    "    return np.argmax(A[-1])"
   ],
   "id": "611e26035823cd5b",
   "outputs": [],
   "execution_count": 14
  },
  {
   "metadata": {
    "ExecuteTime": {
     "end_time": "2024-12-17T18:19:35.189633Z",
     "start_time": "2024-12-17T18:19:35.180308Z"
    }
   },
   "cell_type": "code",
   "source": [
    "y_hat = forward_pass(W, B, flat_train_X[0], predict_vector=True)\n",
    "print(f\"Prediction: np.argmax(y_hat) = {np.argmax(y_hat)}\")\n",
    "print(f\"Target Label: np.argmax(yi) = {np.argmax(yi)}\")\n",
    "print(f\"mse(y_hat, yi) = {mse(y_hat, yi)}\")"
   ],
   "id": "46f13727cef2f157",
   "outputs": [
    {
     "name": "stdout",
     "output_type": "stream",
     "text": [
      "Prediction: np.argmax(y_hat) = 8\n",
      "Target Label: np.argmax(yi) = 5\n",
      "mse(y_hat, yi) = 0.9381402697151858\n"
     ]
    }
   ],
   "execution_count": 15
  },
  {
   "metadata": {
    "ExecuteTime": {
     "end_time": "2024-12-17T18:19:35.255389Z",
     "start_time": "2024-12-17T18:19:35.246839Z"
    }
   },
   "cell_type": "code",
   "source": [
    "def random_experiment(W, B, data_features, data_labels):\n",
    "    i = np.random.randint(len(data_features))\n",
    "    print(f\"Actual label: {np.argmax(data_labels[i])}\")\n",
    "    print(f\"Predicted label: {predict(W, B, data_features[i])}\")\n",
    "    \n",
    "\n",
    "def MSE(W, B, X, y):\n",
    "    cost = 0.0\n",
    "    m = 0\n",
    "    for xi, yi in zip(X, y):\n",
    "        a = forward_pass(W, B, xi, predict_vector = True)\n",
    "        cost += mse(a, yi)\n",
    "        m+=1\n",
    "    return cost/m"
   ],
   "id": "f1e97bc2cbe68be5",
   "outputs": [],
   "execution_count": 16
  },
  {
   "metadata": {
    "ExecuteTime": {
     "end_time": "2024-12-17T18:19:42.153524Z",
     "start_time": "2024-12-17T18:19:35.320022Z"
    }
   },
   "cell_type": "code",
   "source": [
    "print(f\"MSE(W, B, flat_train_X, onehot_train_y) = {MSE(W, B, flat_train_X, onehot_train_y)} \\n\")\n",
    "\n",
    "random_experiment(W, B, flat_train_X, onehot_train_y)"
   ],
   "id": "66d3ea2130193560",
   "outputs": [
    {
     "name": "stdout",
     "output_type": "stream",
     "text": [
      "MSE(W, B, flat_train_X, onehot_train_y) = 1.0772328211607847 \n",
      "\n",
      "Actual label: 7\n",
      "Predicted label: 8\n"
     ]
    }
   ],
   "execution_count": 17
  },
  {
   "metadata": {
    "ExecuteTime": {
     "end_time": "2024-12-17T18:19:42.278085Z",
     "start_time": "2024-12-17T18:19:42.263653Z"
    }
   },
   "cell_type": "code",
   "source": [
    "class DenseNetwork(object):\n",
    "    def __init__(self):\n",
    "        self.layers = [784, 60, 60, 10]\n",
    "        self.W, self.B = initialize_weights()\n",
    "\n",
    "    def train(self, X_train, y_train, alpha = 0.046, epochs = 4):\n",
    "        # Print the initial mean squared error\n",
    "        self.cost = [MSE(self.W, self.B, X_train, y_train)]\n",
    "        print(f\"Starting Cost = {self.cost[0]}\")\n",
    "\n",
    "        # Find the number of non-input layers.\n",
    "        L = len(self.layers) - 1\n",
    "\n",
    "        # For each epoch perform stochastic gradient descent. \n",
    "        for k in range(epochs):\n",
    "            # Loop over each (xi, yi) training pair of data.\n",
    "            for xi, yi in zip(X_train, y_train):\n",
    "                # Use the forward pass function defined before\n",
    "                # and find the preactivation and post-activation values.\n",
    "                Z, A = forward_pass(self.W, self.B, xi)\n",
    "\n",
    "                # Store the errors in a dictionary for clear interpretation\n",
    "                # of computation of these values.\n",
    "                deltas = dict()\n",
    "\n",
    "                # Compute the output error \n",
    "                output_error = (A[L] - yi)*d_sigmoid(Z[L])\n",
    "                deltas[L] = output_error\n",
    "\n",
    "                # Loop from L-1 to 1. Recall the right entry of the range function \n",
    "                # is non-inclusive. \n",
    "                for i in range(L-1, 0, -1):\n",
    "                    # Compute the node errors at each hidden layer\n",
    "                    deltas[i] = (self.W[i+1].T @ deltas[i+1])*d_sigmoid(Z[i])\n",
    "\n",
    "                # Loop over each hidden layer and the output layer to perform gradient \n",
    "                # descent. \n",
    "                for i in range(1, L+1):\n",
    "                    self.W[i] -= alpha*deltas[i] @ A[i-1].T\n",
    "                    self.B[i] -= alpha*deltas[i]\n",
    "\n",
    "            # Show the user the cost over all training examples\n",
    "            self.cost.append(MSE(self.W, self.B, X_train, y_train))   \n",
    "            print(f\"{k + 1}-Epoch Cost = {self.cost[-1]}\")\n",
    "    \n",
    "\n",
    "    def predict(self, xi):\n",
    "        # depth = len(self.layers)\n",
    "        _, A = forward_pass(self.W, self.B, xi)\n",
    "        return np.argmax(A[-1])"
   ],
   "id": "b1f18eff50b82132",
   "outputs": [],
   "execution_count": 18
  },
  {
   "metadata": {
    "ExecuteTime": {
     "end_time": "2024-12-17T18:19:49.159784Z",
     "start_time": "2024-12-17T18:19:42.296347Z"
    }
   },
   "cell_type": "code",
   "source": [
    "# Initialize a network with 784 input nodes, two hidden layers with 60 nodes each \n",
    "# and a output layer with 10 nodes. \n",
    "net = DenseNetwork()\n",
    "\n",
    "# Check the mean squared error before training \n",
    "print(\"Initial MSE\")\n",
    "print(f\"MSE(net.W, net.B, flat_train_X, onehot_train_y) = {MSE(net.W, net.B, flat_train_X, onehot_train_y)} \\n\")\n",
    "\n",
    "# Make a random prediction before training\n",
    "i = np.random.randint(0, len(flat_test_X))\n",
    "prediction = net.predict(flat_test_X[i])\n",
    "print(f\"predicted digit is: {prediction}\")\n",
    "print(f\"actual digit is: {np.argmax(onehot_test_y[i])}\")\n",
    "\n",
    "# plt.figure(figsize=(8, 8))\n",
    "# plt.imshow(test_X[i], cmap=\"gray\")\n",
    "# plt.show()"
   ],
   "id": "68b6d1f0a40e9ab",
   "outputs": [
    {
     "name": "stdout",
     "output_type": "stream",
     "text": [
      "Initial MSE\n",
      "MSE(net.W, net.B, flat_train_X, onehot_train_y) = 1.4141773651788994 \n",
      "\n",
      "predicted digit is: 0\n",
      "actual digit is: 9\n"
     ]
    }
   ],
   "execution_count": 19
  },
  {
   "metadata": {
    "ExecuteTime": {
     "end_time": "2024-12-17T18:21:44.461981Z",
     "start_time": "2024-12-17T18:19:49.222190Z"
    }
   },
   "cell_type": "code",
   "source": "net.train(flat_train_X, onehot_train_y)",
   "id": "885893c23cffd9ee",
   "outputs": [
    {
     "name": "stdout",
     "output_type": "stream",
     "text": [
      "Starting Cost = 1.4141773651788994\n",
      "1-Epoch Cost = 0.07091288739153258\n",
      "2-Epoch Cost = 0.05029749904028812\n",
      "3-Epoch Cost = 0.039395637837353434\n",
      "4-Epoch Cost = 0.03270329417243848\n"
     ]
    }
   ],
   "execution_count": 20
  },
  {
   "metadata": {
    "ExecuteTime": {
     "end_time": "2024-12-17T18:21:48.004828Z",
     "start_time": "2024-12-17T18:21:47.703343Z"
    }
   },
   "cell_type": "code",
   "source": [
    "plt.figure(figsize = (10, 8))\n",
    "epochs = range(len(net.cost))\n",
    "plt.plot(epochs, net.cost, marker = \"o\")\n",
    "plt.xticks(epochs)\n",
    "plt.xlabel(\"epochs\")\n",
    "plt.ylabel(\"Mean Squared Error\")\n",
    "plt.title(\"Network MSE During Training\", fontsize = 16)\n",
    "plt.show()"
   ],
   "id": "c519d3b4345dc02",
   "outputs": [
    {
     "data": {
      "text/plain": [
       "<Figure size 1000x800 with 1 Axes>"
      ],
      "image/png": "[encoded data removed]"
     },
     "metadata": {},
     "output_type": "display_data"
    }
   ],
   "execution_count": 21
  },
  {
   "metadata": {
    "ExecuteTime": {
     "end_time": "2024-12-17T18:21:58.029488Z",
     "start_time": "2024-12-17T18:21:57.703746Z"
    }
   },
   "cell_type": "code",
   "source": [
    "# Trying out prediction\n",
    "\n",
    "i = np.random.randint(0, len(flat_test_X))\n",
    "prediction = net.predict(flat_test_X[i])\n",
    "print(f\"predicted digit is: {prediction}\")\n",
    "print(f\"actual digit is: {np.argmax(onehot_test_y[i])}\")\n",
    "plt.figure(figsize=(8, 8))\n",
    "plt.imshow(test_X[i], cmap=\"gray\")\n",
    "plt.show()"
   ],
   "id": "9c1cdb120afcba44",
   "outputs": [
    {
     "name": "stdout",
     "output_type": "stream",
     "text": [
      "predicted digit is: 5\n",
      "actual digit is: 5\n"
     ]
    },
    {
     "data": {
      "text/plain": [
       "<Figure size 800x800 with 1 Axes>"
      ],
      "image/png": "[encoded data removed]"
     },
     "metadata": {},
     "output_type": "display_data"
    }
   ],
   "execution_count": 22
  },
  {
   "metadata": {
    "ExecuteTime": {
     "end_time": "2024-12-17T18:22:37.675503Z",
     "start_time": "2024-12-17T18:22:36.452334Z"
    }
   },
   "cell_type": "code",
   "source": [
    "classification_perf = sum([int(net.predict(x) == y) for x, y in zip(flat_test_X, test_y)])/len(onehot_test_y)\n",
    "print(\"Accuracy: \", classification_perf)"
   ],
   "id": "b6df0fecb580d0ae",
   "outputs": [
    {
     "name": "stdout",
     "output_type": "stream",
     "text": [
      "Accuracy:  0.9583\n"
     ]
    }
   ],
   "execution_count": 23
  }
 ],
 "metadata": {
  "kernelspec": {
   "display_name": "Python 3",
   "language": "python",
   "name": "python3"
  },
  "language_info": {
   "codemirror_mode": {
    "name": "ipython",
    "version": 2
   },
   "file_extension": ".py",
   "mimetype": "text/x-python",
   "name": "python",
   "nbconvert_exporter": "python",
   "pygments_lexer": "ipython2",
   "version": "2.7.6"
  }
 },
 "nbformat": 4,
 "nbformat_minor": 5
}
