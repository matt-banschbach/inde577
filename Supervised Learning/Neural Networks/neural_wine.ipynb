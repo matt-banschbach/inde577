{
 "cells": [
  {
   "cell_type": "code",
   "id": "4a88bc57154e1edc",
   "metadata": {
    "ExecuteTime": {
     "end_time": "2024-12-17T18:24:03.914669Z",
     "start_time": "2024-12-17T18:23:52.229155Z"
    }
   },
   "source": [
    "from keras import Sequential\n",
    "from keras.layers import Dense\n",
    "from keras import Input\n",
    "\n",
    "from sklearn.model_selection import train_test_split\n",
    "from sklearn.datasets import load_wine\n",
    "from sklearn.preprocessing import StandardScaler"
   ],
   "outputs": [],
   "execution_count": 1
  },
  {
   "metadata": {
    "ExecuteTime": {
     "end_time": "2024-12-17T18:24:08.674972Z",
     "start_time": "2024-12-17T18:24:08.645188Z"
    }
   },
   "cell_type": "code",
   "source": [
    "# Load the wine dataset\n",
    "wine = load_wine()\n",
    "X, y = wine.data, wine.target\n",
    "\n",
    "# Split the data into training and testing sets\n",
    "X_train, X_test, y_train, y_test = train_test_split(X, y, test_size=0.2, random_state=42)\n",
    "\n",
    "# Scale the features\n",
    "scaler = StandardScaler()\n",
    "X_train_scaled = scaler.fit_transform(X_train)\n",
    "X_test_scaled = scaler.transform(X_test)"
   ],
   "id": "c250080fab31ff52",
   "outputs": [],
   "execution_count": 2
  },
  {
   "metadata": {
    "ExecuteTime": {
     "end_time": "2024-12-17T18:24:13.220495Z",
     "start_time": "2024-12-17T18:24:12.864005Z"
    }
   },
   "cell_type": "code",
   "source": [
    "# Create a sequential model\n",
    "model = Sequential()\n",
    "\n",
    "# Add the input layer\n",
    "model.add(Dense(64, activation='relu', input_dim=X_train.shape[1]))\n",
    "\n",
    "# Add the output layer\n",
    "model.add(Dense(3, activation='softmax'))  # 3 classes\n",
    "\n",
    "# Compile the model\n",
    "model.compile(optimizer='adam', loss='sparse_categorical_crossentropy', metrics=['accuracy'])"
   ],
   "id": "1c357c761883e790",
   "outputs": [
    {
     "name": "stderr",
     "output_type": "stream",
     "text": [
      "C:\\Users\\mbans\\anaconda3\\Lib\\site-packages\\keras\\src\\layers\\core\\dense.py:87: UserWarning: Do not pass an `input_shape`/`input_dim` argument to a layer. When using Sequential models, prefer using an `Input(shape)` object as the first layer in the model instead.\n",
      "  super().__init__(activity_regularizer=activity_regularizer, **kwargs)\n"
     ]
    }
   ],
   "execution_count": 3
  },
  {
   "metadata": {
    "ExecuteTime": {
     "end_time": "2024-12-17T18:24:21.855662Z",
     "start_time": "2024-12-17T18:24:17.733839Z"
    }
   },
   "cell_type": "code",
   "source": [
    "# Train the model\n",
    "model.fit(X_train_scaled, y_train, epochs=12, batch_size=32, validation_data=(X_test_scaled, y_test))"
   ],
   "id": "b5ff404b01a409f0",
   "outputs": [
    {
     "name": "stdout",
     "output_type": "stream",
     "text": [
      "Epoch 1/12\n",
      "\u001B[1m5/5\u001B[0m \u001B[32m━━━━━━━━━━━━━━━━━━━━\u001B[0m\u001B[37m\u001B[0m \u001B[1m3s\u001B[0m 93ms/step - accuracy: 0.5919 - loss: 0.9350 - val_accuracy: 0.8056 - val_loss: 0.8397\n",
      "Epoch 2/12\n",
      "\u001B[1m5/5\u001B[0m \u001B[32m━━━━━━━━━━━━━━━━━━━━\u001B[0m\u001B[37m\u001B[0m \u001B[1m0s\u001B[0m 15ms/step - accuracy: 0.7043 - loss: 0.8514 - val_accuracy: 0.8611 - val_loss: 0.7362\n",
      "Epoch 3/12\n",
      "\u001B[1m5/5\u001B[0m \u001B[32m━━━━━━━━━━━━━━━━━━━━\u001B[0m\u001B[37m\u001B[0m \u001B[1m0s\u001B[0m 14ms/step - accuracy: 0.8022 - loss: 0.7409 - val_accuracy: 0.9444 - val_loss: 0.6463\n",
      "Epoch 4/12\n",
      "\u001B[1m5/5\u001B[0m \u001B[32m━━━━━━━━━━━━━━━━━━━━\u001B[0m\u001B[37m\u001B[0m \u001B[1m0s\u001B[0m 15ms/step - accuracy: 0.8194 - loss: 0.6603 - val_accuracy: 0.9722 - val_loss: 0.5666\n",
      "Epoch 5/12\n",
      "\u001B[1m5/5\u001B[0m \u001B[32m━━━━━━━━━━━━━━━━━━━━\u001B[0m\u001B[37m\u001B[0m \u001B[1m0s\u001B[0m 15ms/step - accuracy: 0.8788 - loss: 0.5709 - val_accuracy: 0.9722 - val_loss: 0.4987\n",
      "Epoch 6/12\n",
      "\u001B[1m5/5\u001B[0m \u001B[32m━━━━━━━━━━━━━━━━━━━━\u001B[0m\u001B[37m\u001B[0m \u001B[1m0s\u001B[0m 14ms/step - accuracy: 0.8986 - loss: 0.5201 - val_accuracy: 0.9722 - val_loss: 0.4404\n",
      "Epoch 7/12\n",
      "\u001B[1m5/5\u001B[0m \u001B[32m━━━━━━━━━━━━━━━━━━━━\u001B[0m\u001B[37m\u001B[0m \u001B[1m0s\u001B[0m 15ms/step - accuracy: 0.9362 - loss: 0.4786 - val_accuracy: 0.9722 - val_loss: 0.3907\n",
      "Epoch 8/12\n",
      "\u001B[1m5/5\u001B[0m \u001B[32m━━━━━━━━━━━━━━━━━━━━\u001B[0m\u001B[37m\u001B[0m \u001B[1m0s\u001B[0m 14ms/step - accuracy: 0.9389 - loss: 0.4150 - val_accuracy: 0.9722 - val_loss: 0.3476\n",
      "Epoch 9/12\n",
      "\u001B[1m5/5\u001B[0m \u001B[32m━━━━━━━━━━━━━━━━━━━━\u001B[0m\u001B[37m\u001B[0m \u001B[1m0s\u001B[0m 14ms/step - accuracy: 0.9356 - loss: 0.3660 - val_accuracy: 0.9722 - val_loss: 0.3110\n",
      "Epoch 10/12\n",
      "\u001B[1m5/5\u001B[0m \u001B[32m━━━━━━━━━━━━━━━━━━━━\u001B[0m\u001B[37m\u001B[0m \u001B[1m0s\u001B[0m 14ms/step - accuracy: 0.9601 - loss: 0.3522 - val_accuracy: 0.9722 - val_loss: 0.2795\n",
      "Epoch 11/12\n",
      "\u001B[1m5/5\u001B[0m \u001B[32m━━━━━━━━━━━━━━━━━━━━\u001B[0m\u001B[37m\u001B[0m \u001B[1m0s\u001B[0m 15ms/step - accuracy: 0.9635 - loss: 0.3173 - val_accuracy: 0.9722 - val_loss: 0.2526\n",
      "Epoch 12/12\n",
      "\u001B[1m5/5\u001B[0m \u001B[32m━━━━━━━━━━━━━━━━━━━━\u001B[0m\u001B[37m\u001B[0m \u001B[1m0s\u001B[0m 15ms/step - accuracy: 0.9726 - loss: 0.2840 - val_accuracy: 0.9722 - val_loss: 0.2290\n"
     ]
    },
    {
     "data": {
      "text/plain": [
       "<keras.src.callbacks.history.History at 0x27749b0e8d0>"
      ]
     },
     "execution_count": 4,
     "metadata": {},
     "output_type": "execute_result"
    }
   ],
   "execution_count": 4
  },
  {
   "metadata": {
    "ExecuteTime": {
     "end_time": "2024-12-17T18:24:26.339348Z",
     "start_time": "2024-12-17T18:24:26.183740Z"
    }
   },
   "cell_type": "code",
   "source": [
    "# Evaluate the model on the test set\n",
    "test_loss, test_acc = model.evaluate(X_test_scaled, y_test)\n",
    "print('Test accuracy:', test_acc)"
   ],
   "id": "1ba9720c5b73e404",
   "outputs": [
    {
     "name": "stdout",
     "output_type": "stream",
     "text": [
      "\u001B[1m2/2\u001B[0m \u001B[32m━━━━━━━━━━━━━━━━━━━━\u001B[0m\u001B[37m\u001B[0m \u001B[1m0s\u001B[0m 9ms/step - accuracy: 0.9711 - loss: 0.2318 \n",
      "Test accuracy: 0.9722222089767456\n"
     ]
    }
   ],
   "execution_count": 5
  },
  {
   "metadata": {},
   "cell_type": "markdown",
   "source": [
    "Additional Considerations:\n",
    "\n",
    "Hyperparameter Tuning: Experiment with different hyperparameters like the number of layers, number of neurons, activation functions, and optimizer to improve performance.\n",
    "Regularization: Consider using techniques like L1/L2 regularization or dropout to prevent overfitting.\n",
    "Early Stopping: Implement early stopping to avoid overtraining the model.\n",
    "Data Augmentation: If applicable, consider data augmentation techniques to increase the size and diversity of the training data.\n",
    "More Complex Models: For more complex problems, explore deeper architectures, convolutional neural networks (CNNs), or recurrent neural networks (RNNs)."
   ],
   "id": "361306e5ba53d528"
  }
 ],
 "metadata": {
  "kernelspec": {
   "display_name": "Python 3",
   "language": "python",
   "name": "python3"
  },
  "language_info": {
   "codemirror_mode": {
    "name": "ipython",
    "version": 2
   },
   "file_extension": ".py",
   "mimetype": "text/x-python",
   "name": "python",
   "nbconvert_exporter": "python",
   "pygments_lexer": "ipython2",
   "version": "2.7.6"
  }
 },
 "nbformat": 4,
 "nbformat_minor": 5
}
