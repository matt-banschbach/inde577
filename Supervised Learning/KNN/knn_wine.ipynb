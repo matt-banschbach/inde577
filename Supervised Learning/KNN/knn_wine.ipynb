{
 "cells": [
  {
   "metadata": {},
   "cell_type": "markdown",
   "source": [
    "## KNN Implemented using sklearn + GridSearch Cross-Validation for Hyperparameter tuning\n",
    "___\n",
    "\n",
    "**Dataset**: Wine"
   ],
   "id": "a68670411aebbb1c"
  },
  {
   "cell_type": "code",
   "id": "initial_id",
   "metadata": {
    "collapsed": true,
    "ExecuteTime": {
     "end_time": "2024-12-17T16:24:11.082618Z",
     "start_time": "2024-12-17T16:24:11.072554Z"
    }
   },
   "source": [
    "from em_el.datasets import load_wine\n",
    "from em_el.utils import draw_confusion_matrix\n",
    "from sklearn.neighbors import KNeighborsClassifier\n",
    "from sklearn.model_selection import train_test_split, GridSearchCV\n",
    "from sklearn.metrics import accuracy_score, classification_report, confusion_matrix\n",
    "import numpy as np\n",
    "import matplotlib.pyplot as plt"
   ],
   "outputs": [],
   "execution_count": 16
  },
  {
   "metadata": {
    "ExecuteTime": {
     "end_time": "2024-12-17T16:24:33.798262Z",
     "start_time": "2024-12-17T16:24:33.784935Z"
    }
   },
   "cell_type": "code",
   "source": "wine = load_wine()",
   "id": "9fd0d43dbdc6751e",
   "outputs": [],
   "execution_count": 17
  },
  {
   "metadata": {
    "ExecuteTime": {
     "end_time": "2024-12-17T16:24:38.915204Z",
     "start_time": "2024-12-17T16:24:38.900483Z"
    }
   },
   "cell_type": "code",
   "source": [
    "# X = wine_df.drop(['target'], axis = 1).to_numpy()\n",
    "X = wine.iloc[:, :3].to_numpy()\n",
    "y = wine['target'].to_numpy()\n",
    "\n",
    "X_train, X_test, y_train, y_test = train_test_split(X, y, test_size=0.2, random_state=42)"
   ],
   "id": "351d5f6b69d8272",
   "outputs": [],
   "execution_count": 18
  },
  {
   "metadata": {
    "ExecuteTime": {
     "end_time": "2024-12-17T16:24:41.604601Z",
     "start_time": "2024-12-17T16:24:41.582985Z"
    }
   },
   "cell_type": "code",
   "source": [
    "wine_knn = KNeighborsClassifier(n_neighbors=4)\n",
    "wine_knn.fit(X_train, y_train)\n",
    "y_hat = wine_knn.predict(X_test)"
   ],
   "id": "e9b593f74e5baa9d",
   "outputs": [],
   "execution_count": 19
  },
  {
   "metadata": {
    "ExecuteTime": {
     "end_time": "2024-12-17T16:24:42.993436Z",
     "start_time": "2024-12-17T16:24:42.751798Z"
    }
   },
   "cell_type": "code",
   "source": [
    "acc = accuracy_score(y_test, y_hat)\n",
    "print(f\"Accuracy: {acc}\")\n",
    "\n",
    "clf_rep = classification_report(y_test, y_hat)\n",
    "print(f\"Classification Report:\\n {clf_rep}\")\n",
    "\n",
    "conf_matrix = confusion_matrix(y_test, y_hat)\n",
    "print(f\"Confusion Matrix \\n {conf_matrix}\")\n",
    "\n",
    "draw_confusion_matrix(conf_matrix, \"KNN Wine Confusion Matrix\")"
   ],
   "id": "da77412e2b9ccf59",
   "outputs": [
    {
     "name": "stdout",
     "output_type": "stream",
     "text": [
      "Accuracy: 0.8888888888888888\n",
      "Classification Report:\n",
      "               precision    recall  f1-score   support\n",
      "\n",
      "           0       0.92      0.86      0.89        14\n",
      "           1       1.00      0.93      0.96        14\n",
      "           2       0.70      0.88      0.78         8\n",
      "\n",
      "    accuracy                           0.89        36\n",
      "   macro avg       0.87      0.89      0.88        36\n",
      "weighted avg       0.90      0.89      0.89        36\n",
      "\n",
      "Confusion Matrix \n",
      " [[12  0  2]\n",
      " [ 0 13  1]\n",
      " [ 1  0  7]]\n"
     ]
    },
    {
     "data": {
      "text/plain": [
       "<Figure size 900x600 with 1 Axes>"
      ],
      "image/png": "[encoded data removed]"
     },
     "metadata": {},
     "output_type": "display_data"
    }
   ],
   "execution_count": 20
  },
  {
   "metadata": {
    "ExecuteTime": {
     "end_time": "2024-12-17T16:08:31.642932Z",
     "start_time": "2024-12-17T16:08:30.880793Z"
    }
   },
   "cell_type": "code",
   "source": [
    "# GridSearchCV to determine optimal K\n",
    "\n",
    "k_range = np.array(range(3, 20))\n",
    "\n",
    "param_grid = {'n_neighbors': k_range,}\n",
    "grid_search = GridSearchCV(KNeighborsClassifier(), param_grid, cv=5)\n",
    "grid_search.fit(X_train, y_train)\n",
    "\n",
    "best_k = grid_search.best_params_['n_neighbors']\n",
    "print(f\"Best k: {best_k}\")"
   ],
   "id": "c368925e7633fc75",
   "outputs": [
    {
     "name": "stdout",
     "output_type": "stream",
     "text": [
      "Best k: 4\n"
     ]
    }
   ],
   "execution_count": 11
  },
  {
   "metadata": {},
   "cell_type": "markdown",
   "source": [
    "#### Sparseness\n",
    "\n",
    "The implementation of KNN on the wine dataset illustrates an important consideration: the sparseness of higher-dimensional data. That is, there is a lot of empty space as we increase the dimensionality of the feature array, which negatively impacts the performance of KNN. Even though we give the algorithm more data when supplying the entire feature array, the algorithm's classification performance improves considerably by restricting to the first three.\n",
    "\n",
    "The repository section on Dimensionality reduction will revisit this example."
   ],
   "id": "d07042b904942b99"
  }
 ],
 "metadata": {
  "kernelspec": {
   "display_name": "Python 3",
   "language": "python",
   "name": "python3"
  },
  "language_info": {
   "codemirror_mode": {
    "name": "ipython",
    "version": 2
   },
   "file_extension": ".py",
   "mimetype": "text/x-python",
   "name": "python",
   "nbconvert_exporter": "python",
   "pygments_lexer": "ipython2",
   "version": "2.7.6"
  }
 },
 "nbformat": 4,
 "nbformat_minor": 5
}
