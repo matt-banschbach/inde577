{
 "cells": [
  {
   "metadata": {},
   "cell_type": "markdown",
   "source": [
    "## KNN Implemented using sklearn + K-Fold Cross-validation and GridSearchCV for Hyperparameter Tuning\n",
    "___\n",
    "\n",
    "**Dataset**: Penguins"
   ],
   "id": "4a869d47dd4175a8"
  },
  {
   "cell_type": "code",
   "id": "initial_id",
   "metadata": {
    "collapsed": true,
    "ExecuteTime": {
     "end_time": "2024-12-17T16:26:21.614388Z",
     "start_time": "2024-12-17T16:26:21.606192Z"
    }
   },
   "source": [
    "#  SK-learn implementation of KNN + K-Fold\n",
    "\n",
    "import numpy as np\n",
    "import matplotlib.pyplot as plt\n",
    "import seaborn as sns\n",
    "\n",
    "from sklearn.model_selection import train_test_split, KFold, GridSearchCV\n",
    "from sklearn.preprocessing import LabelEncoder, StandardScaler\n",
    "from sklearn.neighbors import KNeighborsClassifier\n",
    "from sklearn.metrics import accuracy_score, classification_report, confusion_matrix\n"
   ],
   "outputs": [],
   "execution_count": 13
  },
  {
   "metadata": {
    "ExecuteTime": {
     "end_time": "2024-12-17T16:26:23.451669Z",
     "start_time": "2024-12-17T16:26:23.436192Z"
    }
   },
   "cell_type": "code",
   "source": "penguins = sns.load_dataset('penguins').dropna()",
   "id": "3c23e818072df638",
   "outputs": [],
   "execution_count": 14
  },
  {
   "metadata": {
    "ExecuteTime": {
     "end_time": "2024-12-17T16:26:24.634601Z",
     "start_time": "2024-12-17T16:26:24.613265Z"
    }
   },
   "cell_type": "code",
   "source": [
    "le = LabelEncoder()  # Encode categorical data in a numerical format\n",
    "penguins['sex'] = le.fit_transform(penguins['sex'])\n",
    "penguins['species'] = le.fit_transform(penguins['species'])\n",
    "penguins['island'] = le.fit_transform(penguins['island'])\n",
    "\n",
    "X = penguins.drop('species', axis=1)  # Get Features \n",
    "y = penguins['species']  # Get labels\n",
    "\n",
    "scaler = StandardScaler()  # Scale the feature data \n",
    "scaler.fit(X)\n",
    "X_scaled = scaler.transform(X)\n",
    "\n",
    "# Split to train and test\n",
    "X_train, X_test, y_train, y_test = train_test_split(X_scaled, y, test_size=0.33, random_state=42)"
   ],
   "id": "42d3967691b00694",
   "outputs": [],
   "execution_count": 15
  },
  {
   "metadata": {
    "ExecuteTime": {
     "end_time": "2024-12-17T16:26:34.198022Z",
     "start_time": "2024-12-17T16:26:34.174319Z"
    }
   },
   "cell_type": "code",
   "source": [
    "model = KNeighborsClassifier(n_neighbors=5)  # Create a KNN model\n",
    "model.fit(X_train, y_train)  # Fit the model to the training data\n",
    "y_pred = model.predict(X_test)  # Get a predictions vector"
   ],
   "id": "18d852c58e1d3c2",
   "outputs": [],
   "execution_count": 18
  },
  {
   "metadata": {
    "ExecuteTime": {
     "end_time": "2024-12-17T16:26:36.329734Z",
     "start_time": "2024-12-17T16:26:36.300480Z"
    }
   },
   "cell_type": "code",
   "source": [
    "# Evaluate model accuracy based on metrics included within SK-learn\n",
    "\n",
    "accuracy = accuracy_score(y_test, y_pred)\n",
    "print(\"Accuracy:\", accuracy)\n",
    "\n",
    "report = classification_report(y_test, y_pred)\n",
    "print(\"Classification Report:\\n\", report)\n",
    "\n",
    "cf_matrix = confusion_matrix(y_test, y_pred)\n",
    "print(\"Confusion Matrix:\\n\", cf_matrix)"
   ],
   "id": "52675dba596a5390",
   "outputs": [
    {
     "name": "stdout",
     "output_type": "stream",
     "text": [
      "Accuracy: 0.9818181818181818\n",
      "Classification Report:\n",
      "               precision    recall  f1-score   support\n",
      "\n",
      "           0       0.98      0.98      0.98        52\n",
      "           1       0.95      0.95      0.95        20\n",
      "           2       1.00      1.00      1.00        38\n",
      "\n",
      "    accuracy                           0.98       110\n",
      "   macro avg       0.98      0.98      0.98       110\n",
      "weighted avg       0.98      0.98      0.98       110\n",
      "\n",
      "Confusion Matrix:\n",
      " [[51  1  0]\n",
      " [ 1 19  0]\n",
      " [ 0  0 38]]\n"
     ]
    }
   ],
   "execution_count": 19
  },
  {
   "metadata": {
    "ExecuteTime": {
     "end_time": "2024-12-17T16:26:40.088378Z",
     "start_time": "2024-12-17T16:26:39.847839Z"
    }
   },
   "cell_type": "code",
   "source": [
    "# Plot the Confusion Matrix\n",
    "\n",
    "plt.figure(figsize = (9, 6))\n",
    "ax = sns.heatmap(cf_matrix, annot=True, cmap='Blues', cbar=False)\n",
    "\n",
    "ax.set_title('Penguins KNN Confusion Matrix')\n",
    "ax.set_xlabel('Predicted Values')\n",
    "ax.set_ylabel('Actual Values')\n",
    "\n",
    "num_rows, num_cols = cf_matrix.shape  # Get the number of rows and columns\n",
    "\n",
    "# Draw horizontal lines\n",
    "for i in range(num_rows + 1):\n",
    "    ax.axhline(y=i, color='black', linewidth=0.5)\n",
    "\n",
    "# Draw vertical lines\n",
    "for j in range(num_cols + 1):\n",
    "    ax.axvline(x=j, color='black', linewidth=0.5)\n",
    "\n",
    "plt.show()"
   ],
   "id": "92dca40e27e44210",
   "outputs": [
    {
     "data": {
      "text/plain": [
       "<Figure size 900x600 with 1 Axes>"
      ],
      "image/png": "[encoded data removed]"
     },
     "metadata": {},
     "output_type": "display_data"
    }
   ],
   "execution_count": 20
  },
  {
   "metadata": {},
   "cell_type": "markdown",
   "source": [
    "## K-Fold Cross Validation\n",
    "___\n",
    "K-fold cross-validation is a powerful technique used to evaluate the performance of machine learning models, including KNN classifiers, by providing a more robust estimate of model performance on unseen data. Here's how it works:\n",
    "\n",
    "1. The dataset is divided into K equally sized folds while maintaining the proportion of classes in each fold (stratified sampling).\n",
    "\n",
    "2. The model is trained and evaluated K times, with each fold serving as the test set exactly once while the remaining K-1 folds are used for training.\n",
    "\n",
    "3. Performance metrics are calculated for each iteration, and the final model performance is determined by averaging these results.\n",
    "\n",
    "#### Process\n",
    "\n",
    "1. Choose the number of folds (K), typically 5 or 10.\n",
    "2. Split the dataset into K folds.\n",
    "3. For each iteration:\n",
    "   - Use K-1 folds for training\n",
    "   - Use the remaining fold for testing\n",
    "   - Train the model and evaluate its performance\n",
    "4. Calculate the average performance across all K iterations.\n",
    "\n",
    "#### Benefits\n",
    "\n",
    "1. Provides a more reliable estimate of model performance by using all data for both training and testing.\n",
    "2. Reduces the impact of data variability and minimizes the risk of overfitting to a particular data split.\n",
    "3. Especially useful for smaller datasets, as it makes efficient use of limited data.\n",
    "\n",
    "Below, we implement K-Fold Cross Validation on our KNN model."
   ],
   "id": "6b6e7a74a506eafc"
  },
  {
   "metadata": {
    "ExecuteTime": {
     "end_time": "2024-12-17T16:26:44.552220Z",
     "start_time": "2024-12-17T16:26:44.475025Z"
    }
   },
   "cell_type": "code",
   "source": [
    "# Conduct K-Fold Cross Validation\n",
    "\n",
    "# Define the number of folds\n",
    "k_folds = 5\n",
    "\n",
    "# Create a KFold object\n",
    "kf = KFold(n_splits=k_folds, shuffle=True, random_state=42)\n",
    "\n",
    "# Empty lists to store accuracy scores\n",
    "accuracy_scores = []\n",
    "\n",
    "# Loop through each fold\n",
    "for train_index, test_index in kf.split(X_scaled):\n",
    "    # Split data into training and testing sets for this fold\n",
    "    X_train_fold, X_test_fold = X_scaled[train_index], X_scaled[test_index]\n",
    "    y_train_fold, y_test_fold = y.iloc[train_index], y.iloc[test_index]\n",
    "\n",
    "    # Train the KNN model on the training set for this fold\n",
    "    model.fit(X_train_fold, y_train_fold)\n",
    "\n",
    "    # Make predictions on the testing set for this fold\n",
    "    y_pred = model.predict(X_test_fold)\n",
    "\n",
    "    # Calculate accuracy score for this fold\n",
    "    accuracy = accuracy_score(y_test_fold, y_pred)\n",
    "    accuracy_scores.append(accuracy)\n",
    "\n",
    "# Print the average accuracy across all folds\n",
    "print(f\"Average accuracy across {k_folds} folds: {np.mean(accuracy_scores)}\")"
   ],
   "id": "350825741627e326",
   "outputs": [
    {
     "name": "stdout",
     "output_type": "stream",
     "text": [
      "Average accuracy across 5 folds: 0.9909543193125282\n"
     ]
    }
   ],
   "execution_count": 21
  },
  {
   "metadata": {},
   "cell_type": "markdown",
   "source": [
    "## Finding Optimal Hyperparameter K with Grid Search\n",
    "___\n",
    "\n",
    "Determining the optimal hyperparameter K for K-nearest neighbors (KNN) using Grid Search involves systematically evaluating the model's performance across a range of K values. Here's a conceptual and mathematical explanation of the process:\n",
    "\n",
    "#### Conceptual Overview\n",
    "\n",
    "1. Define a range of K values to test\n",
    "2. For each K value:\n",
    "   - Train the KNN model\n",
    "   - Evaluate its performance using cross-validation\n",
    "3. Select the K that yields the best performance\n",
    "\n",
    "#### Mathematical Foundation\n",
    "\n",
    "Let's define:\n",
    "- $X$ as the feature set\n",
    "- $y$ as the target variable\n",
    "- $K = \\{k_1, k_2, ..., k_n\\}$ as the set of K values to test\n",
    "\n",
    "For each $k_i \\in K$:\n",
    "\n",
    "1. Train the KNN model:\n",
    "   $f_{k_i}(x) = \\text{mode}(y_j | (x_j, y_j) \\in N_{k_i}(x))$\n",
    "   where $N_{k_i}(x)$ is the set of $k_i$ nearest neighbors of $x$\n",
    "\n",
    "2. Perform cross-validation:\n",
    "   - Split the data into $m$ folds\n",
    "   - For each fold $j$:\n",
    "     $Accuracy_{k_i,j} = \\frac{1}{|X_j|} \\sum_{x \\in X_j} I(f_{k_i}(x) = y_x)$\n",
    "     where $X_j$ is the test set for fold $j$, and $I$ is the indicator function\n",
    "\n",
    "3. Calculate the mean cross-validation score:\n",
    "   $CV_{k_i} = \\frac{1}{m} \\sum_{j=1}^m Accuracy_{k_i,j}$\n",
    "\n",
    "4. Select the optimal K:\n",
    "   $K_{optimal} = \\text{argmax}_{k_i \\in K} CV_{k_i}$"
   ],
   "id": "a9326edf1ffb7c4c"
  },
  {
   "metadata": {
    "ExecuteTime": {
     "end_time": "2024-12-17T16:26:49.340503Z",
     "start_time": "2024-12-17T16:26:47.825898Z"
    }
   },
   "cell_type": "code",
   "source": [
    "#  Utilize GridSearchCV to find the best hyperparameter K\n",
    "\n",
    "param_grid = {'n_neighbors': range(1, 31)}  # Testing k from 1 to 30\n",
    "\n",
    "# Set up GridSearchCV\n",
    "grid_search = GridSearchCV(model, param_grid, cv=5, scoring='accuracy')\n",
    "\n",
    "# Fit the gridsearch model\n",
    "grid_search.fit(X_train, y_train)\n",
    "\n",
    "# Print the best parameters and score\n",
    "print(\"Best parameters:\", grid_search.best_params_)\n",
    "print(\"Best cross-validation score:\", grid_search.best_score_)"
   ],
   "id": "35928bc746628c8d",
   "outputs": [
    {
     "name": "stdout",
     "output_type": "stream",
     "text": [
      "Best parameters: {'n_neighbors': 5}\n",
      "Best cross-validation score: 0.9954545454545455\n"
     ]
    }
   ],
   "execution_count": 22
  }
 ],
 "metadata": {
  "kernelspec": {
   "display_name": "Python 3",
   "language": "python",
   "name": "python3"
  },
  "language_info": {
   "codemirror_mode": {
    "name": "ipython",
    "version": 2
   },
   "file_extension": ".py",
   "mimetype": "text/x-python",
   "name": "python",
   "nbconvert_exporter": "python",
   "pygments_lexer": "ipython2",
   "version": "2.7.6"
  }
 },
 "nbformat": 4,
 "nbformat_minor": 5
}
