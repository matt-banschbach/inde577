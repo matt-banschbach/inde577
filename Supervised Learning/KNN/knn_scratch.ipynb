{
 "cells": [
  {
   "metadata": {},
   "cell_type": "markdown",
   "source": [
    "## K-nearest neighbors (KNN) algorithm written from scratch\n",
    "___\n",
    "\n",
    "**Dataset**: Penguins\n"
   ],
   "id": "32466ef7ceb15c69"
  },
  {
   "cell_type": "code",
   "id": "initial_id",
   "metadata": {
    "collapsed": true
   },
   "source": [
    "import numpy as np\n",
    "import matplotlib.pyplot as plt\n",
    "import seaborn as sns\n",
    "import pandas as pd\n",
    "from sklearn.model_selection import train_test_split, GridSearchCV\n",
    "from sklearn.metrics import accuracy_score, classification_report, confusion_matrix\n",
    "from sklearn.datasets import load_wine\n",
    "import operator"
   ],
   "outputs": [],
   "execution_count": null
  },
  {
   "metadata": {},
   "cell_type": "code",
   "source": "penguins = sns.load_dataset('penguins').dropna()",
   "id": "b0f54ef9b843502f",
   "outputs": [],
   "execution_count": null
  },
  {
   "metadata": {},
   "cell_type": "code",
   "source": [
    "# Assign colors to each species for visualization\n",
    "colors = dict(zip(penguins['species'].unique(), [\"red\", \"magenta\", \"lightseagreen\"]))\n",
    "\n",
    "fig, ax = plt.subplots(figsize=(9, 6))\n",
    "for s, c in colors.items():\n",
    "    plot_i = penguins[penguins.species == s]  # Plot each species with its corresponding color\n",
    "    ax.scatter(plot_i.bill_length_mm, plot_i.bill_depth_mm, color=c, label=s)\n",
    "\n",
    "ax.set_xlabel('Bill Length (mm)')\n",
    "ax.set_ylabel('Bill Depth (mm)')\n",
    "ax.legend()\n",
    "plt.show()"
   ],
   "id": "d2f1afc9d2b88f80",
   "outputs": [],
   "execution_count": null
  },
  {
   "metadata": {},
   "cell_type": "code",
   "source": [
    "X = penguins[['bill_length_mm', 'bill_depth_mm']].to_numpy()  # Get feature and label arrays\n",
    "y = penguins['species'].to_numpy()\n",
    "\n",
    "# Split feature and label data into training and testing sets\n",
    "X_train, X_test, y_train, y_test = train_test_split(X, y, test_size=0.3, random_state=42)"
   ],
   "id": "4e9a435f3af1c3a6",
   "outputs": [],
   "execution_count": null
  },
  {
   "metadata": {},
   "cell_type": "code",
   "source": [
    "def d(a, b):\n",
    "    \"\"\"\n",
    "    The Euclidian distance between two vectors.\n",
    "    :param a: Vector 1\n",
    "    :param b: Vector 2\n",
    "    :return: Euclidean Distance\n",
    "    \"\"\"\n",
    "    return np.sqrt((a-b) @ (a-b))\n",
    "\n",
    "from em_el.utils import euclidean"
   ],
   "id": "3516bae1e06e2ac8",
   "outputs": [],
   "execution_count": null
  },
  {
   "metadata": {},
   "cell_type": "code",
   "source": [
    "def k_nearest(target, X, y, K):\n",
    "    \"\"\"\n",
    "    Finds the K nearest neighbors of a given point in a dataset.\n",
    "    \n",
    "    :param X: A numpy array of shape (n_samples, n_features) containing the feature vectors of the training data.\n",
    "    :param y: A numpy array of shape (n_samples,) containing the corresponding labels for the training data.\n",
    "    :param x_n: A numpy array of shape (n_features,) representing the query point.\n",
    "    :param K: The number of nearest neighbors to return.\n",
    "    \n",
    "    :return: A list of tuples, where each tuple contains:\n",
    "            - The distance to the query point.\n",
    "            - The feature vector of the neighbor.\n",
    "            - The label of the neighbor.\n",
    "        The list is sorted in ascending order of distance.\n",
    "    \"\"\"\n",
    "    distances = [(d(x, target), x, y) for x, y in zip(X, y)]\n",
    "    distances = sorted(distances, key=operator.itemgetter(0))  # Sort the list by the distances\n",
    "    \n",
    "    return distances[:K]\n"
   ],
   "id": "52a2fba7e90bf37a",
   "outputs": [],
   "execution_count": null
  },
  {
   "metadata": {},
   "cell_type": "code",
   "source": [
    "def KNN(target, X, y, K, regression=False):\n",
    "    \"\"\"\n",
    "    Implements the K-Nearest Neighbors (KNN) algorithm for classification or regression.\n",
    "    \n",
    "    For classification:\n",
    "        - Finds the K nearest neighbors to the `target` point.\n",
    "        - Returns the most frequent label among the K nearest neighbors.\n",
    "\n",
    "    For regression:\n",
    "        - Finds the K nearest neighbors to the `target` point.\n",
    "        - Returns the average target value of the K nearest neighbors.\n",
    "    \n",
    "    :param X: A numpy array containing the feature vectors of the training data.\n",
    "    :param y: A numpy array containing the labels or target values of the training data.\n",
    "    :param target: A numpy array representing the feature vector of the point to classify or regress.\n",
    "    :param K: The number of nearest neighbors to consider (default is 3).\n",
    "    :param regression: A boolean flag indicating whether to perform regression (True) or classification (False).\n",
    "\n",
    "    :return: predicted label or target value for the input `target` point.\n",
    "    \"\"\"\n",
    "    neighbors = k_nearest(target, X, y, K)\n",
    "    if regression:\n",
    "        return np.mean([x[2] for x in neighbors])\n",
    "    else:\n",
    "        labels = [n[2] for n in neighbors]\n",
    "        return max(labels, key=labels.count)"
   ],
   "id": "731d5a2d2fa0e3c5",
   "outputs": [],
   "execution_count": null
  },
  {
   "metadata": {},
   "cell_type": "code",
   "source": "KNN(X_train[1], X_train, y_train, 4)",
   "id": "169ef9486aa569e6",
   "outputs": [],
   "execution_count": null
  },
  {
   "metadata": {},
   "cell_type": "code",
   "source": [
    "def classification_error(train_X, train_y, test_X, test_y, K):\n",
    "    \"\"\"\n",
    "    Calculates the classification error rate of a K-Nearest Neighbors (KNN) classifier.\n",
    "\n",
    "    :param test_X: A numpy array containing the feature vectors of the test data.\n",
    "    :param test_y: A numpy array containing the true labels of the test data.\n",
    "    :param train_X: A numpy array containing the feature vectors of the training data.\n",
    "    :param train_y: A numpy array containing the true labels of the training data.\n",
    "    :param K: The number of nearest neighbors to consider.\n",
    "\n",
    "    :return: The classification error rate of the K-Nearest Neighbors (KNN) classifier, which is the proportion of misclassified test points.\n",
    "    \"\"\"\n",
    "    error = 0\n",
    "    for x_i, y_i in zip(test_X, test_y):\n",
    "        error += y_i != KNN(x_i, train_X, train_y, K)\n",
    "    return error / len(test_X)"
   ],
   "id": "a91239851d0f628a",
   "outputs": [],
   "execution_count": null
  },
  {
   "metadata": {},
   "cell_type": "code",
   "source": "print(\"Classification Error: \", classification_error(X_train, y_train, X_test, y_test, 4))",
   "id": "e64b6ec6e5c0be6a",
   "outputs": [],
   "execution_count": null
  },
  {
   "metadata": {},
   "cell_type": "code",
   "source": [
    "possible_k = [k for k in range(3, 26, 2)]  # Test different values of K\n",
    "errors = [classification_error(X_test, y_test, X_train, y_train, k) for k in possible_k]"
   ],
   "id": "bc502dfd648d1ce",
   "outputs": [],
   "execution_count": null
  },
  {
   "metadata": {},
   "cell_type": "code",
   "source": [
    "# Plot the different error values vs k values\n",
    "plt.figure(figsize = (9, 6))\n",
    "plt.plot(possible_k, errors, color = 'red', marker = \"o\")\n",
    "plt.xlabel('k', fontsize = 14)\n",
    "plt.ylabel('Classification Error', fontsize = 14)\n",
    "plt.xticks(possible_k)\n",
    "plt.show()"
   ],
   "id": "402c4ba4af8d22f6",
   "outputs": [],
   "execution_count": null
  },
  {
   "metadata": {},
   "cell_type": "markdown",
   "source": "",
   "id": "5acd974b69ae1157"
  },
  {
   "metadata": {},
   "cell_type": "code",
   "source": "",
   "id": "66142d11f4ac9dfd",
   "outputs": [],
   "execution_count": null
  }
 ],
 "metadata": {
  "kernelspec": {
   "display_name": "Python 3",
   "language": "python",
   "name": "python3"
  },
  "language_info": {
   "codemirror_mode": {
    "name": "ipython",
    "version": 2
   },
   "file_extension": ".py",
   "mimetype": "text/x-python",
   "name": "python",
   "nbconvert_exporter": "python",
   "pygments_lexer": "ipython2",
   "version": "2.7.6"
  }
 },
 "nbformat": 4,
 "nbformat_minor": 5
}
